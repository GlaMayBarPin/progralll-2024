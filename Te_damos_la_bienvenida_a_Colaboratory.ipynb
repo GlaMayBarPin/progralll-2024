{
  "cells": [
    {
      "cell_type": "markdown",
      "metadata": {
        "id": "view-in-github",
        "colab_type": "text"
      },
      "source": [
        "<a href=\"https://colab.research.google.com/github/GlaMayBarPin/progralll-2024/blob/Bloque3/Te_damos_la_bienvenida_a_Colaboratory.ipynb\" target=\"_parent\"><img src=\"https://colab.research.google.com/assets/colab-badge.svg\" alt=\"Open In Colab\"/></a>"
      ]
    },
    {
      "cell_type": "code",
      "execution_count": null,
      "metadata": {
        "colab": {
          "base_uri": "https://localhost:8080/"
        },
        "id": "vz9HBA-N4XkT",
        "outputId": "19960374-b412-4fff-faea-feaea85ee1fc"
      },
      "outputs": [
        {
          "name": "stdout",
          "output_type": "stream",
          "text": [
            "Hola Mundo\n"
          ]
        }
      ],
      "source": [
        "print(\"Hola Mundo\")"
      ]
    },
    {
      "cell_type": "code",
      "execution_count": null,
      "metadata": {
        "colab": {
          "base_uri": "https://localhost:8080/"
        },
        "id": "UBse7RY85TZl",
        "outputId": "fc217542-42b0-4059-eb59-249381c83483"
      },
      "outputs": [
        {
          "name": "stdout",
          "output_type": "stream",
          "text": [
            "Ingresa tu nombre Daniel\n",
            "Hola  Daniel , inicial:  D\n"
          ]
        }
      ],
      "source": [
        "nombre = input(\"Ingresa tu nombre \")\n",
        "print(\"Hola \",nombre, \", inicial: \",nombre[0])"
      ]
    },
    {
      "cell_type": "markdown",
      "metadata": {
        "id": "BXJSconP9iCW"
      },
      "source": [
        "EJERCICIO, crear un programa que sume dos numeros"
      ]
    },
    {
      "cell_type": "code",
      "execution_count": null,
      "metadata": {
        "id": "Lc2WefBs_SNw"
      },
      "outputs": [],
      "source": [
        "num1 = 4\n",
        "num2= 5\n",
        "resp = num1 + num2\n",
        "print(\"La suma es: \",resp)"
      ]
    },
    {
      "cell_type": "markdown",
      "metadata": {
        "id": "LwIYj2Ql_bKo"
      },
      "source": [
        "EJERCICIO, crear un programa que sume dos numeros, ingresados por el usuario"
      ]
    },
    {
      "cell_type": "code",
      "execution_count": null,
      "metadata": {
        "colab": {
          "base_uri": "https://localhost:8080/"
        },
        "id": "GnUDx5Tq9o1h",
        "outputId": "46d1e9b0-954e-41f1-d8f4-d6661678d56a"
      },
      "outputs": [
        {
          "name": "stdout",
          "output_type": "stream",
          "text": [
            "Ingresa el primer numero 3\n",
            "INgresa el segundo numero 4\n",
            "La suma es:  7\n"
          ]
        }
      ],
      "source": [
        "num1 = float(input(\"Ingresa el primer numero \"))\n",
        "num2= float(input(\"Ingresa el segundo numero \"))\n",
        "resp = num1 + num2\n",
        "print(\"La suma es: \", resp)"
      ]
    },
    {
      "cell_type": "code",
      "execution_count": null,
      "metadata": {
        "colab": {
          "base_uri": "https://localhost:8080/"
        },
        "id": "ozlC39J9CLvF",
        "outputId": "fb8f4967-7816-4976-91ad-c79f9e1f14df"
      },
      "outputs": [
        {
          "name": "stdout",
          "output_type": "stream",
          "text": [
            "Dani Guerrero , orerreuG leinaD\n",
            "False\n",
            "<class 'int'>\n",
            "<class 'float'>\n",
            "<class 'str'>\n",
            "<class 'bool'>\n"
          ]
        }
      ],
      "source": [
        "#Tipos de\n",
        "num1 = 4\n",
        "num2 = 4.5\n",
        "nombre =\"Daniel Guerrero\"\n",
        "print(nombre[0:4], nombre[7:len(nombre)],\",\", nombre[::-1])\n",
        "\n",
        "estado = False\n",
        "print(estado)\n",
        "\n",
        "print(type(num1))\n",
        "print(type(num2))\n",
        "print(type(nombre))\n",
        "print(type(estado))"
      ]
    },
    {
      "cell_type": "code",
      "execution_count": null,
      "metadata": {
        "id": "axowFotGEkdT"
      },
      "outputs": [],
      "source": [
        "EJERCICIO, crear un programa que lea un numero y diga si es par o impar"
      ]
    },
    {
      "cell_type": "code",
      "execution_count": null,
      "metadata": {
        "colab": {
          "base_uri": "https://localhost:8080/"
        },
        "id": "wwbqCp1uDlFT",
        "outputId": "bb3076d0-1c97-4588-8a01-682f95651442"
      },
      "outputs": [
        {
          "name": "stdout",
          "output_type": "stream",
          "text": [
            "Ingresa un numero: 468\n",
            "El numero es par\n"
          ]
        }
      ],
      "source": [
        "num1 = int(input(\"Ingresa un numero: \"))\n",
        "if num1 % 2 == 0:\n",
        "    print(\"El numero es par\")\n",
        "else:\n",
        "    print(\"El numero es impar\")\n",
        "\n",
        "#Multiplo de 3\n",
        "num2 = int(input(\"Ingresa un numero: \"))\n",
        "num_string = str(num2)\n",
        "suma_cifras=0\n",
        "for i in num_string:\n",
        "    suma_cifras += int(i)\n",
        "if suma_cifras % 3 ==0:\n",
        "    print(\"El numero es multiplo de 3\")\n",
        "else:\n",
        "    print(\"El numero no es multiplo de 3\")"
      ]
    },
    {
      "cell_type": "markdown",
      "metadata": {
        "id": "3RFx7W6-ixvc"
      },
      "source": [
        "Funcion para sumar dos numeros"
      ]
    },
    {
      "cell_type": "code",
      "execution_count": null,
      "metadata": {
        "id": "mZbrc4SKHNG8"
      },
      "outputs": [],
      "source": [
        "def suma(num1, num2):\n",
        "  return num1 + num2"
      ]
    },
    {
      "cell_type": "code",
      "execution_count": null,
      "metadata": {
        "colab": {
          "base_uri": "https://localhost:8080/"
        },
        "id": "QIi3FASqi64O",
        "outputId": "e2353767-f97a-45db-b411-4c65ca70cb5a"
      },
      "outputs": [
        {
          "name": "stdout",
          "output_type": "stream",
          "text": [
            "Num 1: 2.43\n",
            "Num 2: 83.5\n",
            "La suma es:  85.93\n"
          ]
        }
      ],
      "source": [
        "num1 = float(input(\"Num 1: \"))\n",
        "num2 = float(input(\"Num 2: \"))\n",
        "\n",
        "resp = suma(num1, num2)\n",
        "print(\"La suma es: \", resp)"
      ]
    },
    {
      "cell_type": "markdown",
      "metadata": {
        "id": "8UiDDrxZjH_5"
      },
      "source": [
        "Convertir grados celsius a farenheit"
      ]
    },
    {
      "cell_type": "code",
      "execution_count": null,
      "metadata": {
        "id": "dF84-NlfjUgo"
      },
      "outputs": [],
      "source": [
        "def convertir_cf(c):\n",
        "  return c*1.8 + 32"
      ]
    },
    {
      "cell_type": "code",
      "execution_count": null,
      "metadata": {
        "colab": {
          "base_uri": "https://localhost:8080/"
        },
        "id": "S3atoTg8jX0T",
        "outputId": "e23b981d-8829-40ce-fd3c-172a64b52328"
      },
      "outputs": [
        {
          "name": "stdout",
          "output_type": "stream",
          "text": [
            "Celsius: 100\n",
            "F:  212.0\n"
          ]
        }
      ],
      "source": [
        "c = float(input(\"Celsius: \"))\n",
        "print(\"F: \", convertir_cf(c))"
      ]
    },
    {
      "cell_type": "markdown",
      "metadata": {
        "id": "QNwlckfrjgJc"
      },
      "source": [
        "Funcion de paridad"
      ]
    },
    {
      "cell_type": "code",
      "execution_count": null,
      "metadata": {
        "id": "D_iGgKxVjjM6"
      },
      "outputs": [],
      "source": [
        "def parImpar(num):\n",
        "  if(num%2==0):\n",
        "    return \"par\"\n",
        "  return \"impar\""
      ]
    },
    {
      "cell_type": "code",
      "execution_count": null,
      "metadata": {
        "colab": {
          "base_uri": "https://localhost:8080/"
        },
        "id": "aYLrflDujmHV",
        "outputId": "13e21f42-b90b-4a85-fa20-dcb9adc118fe"
      },
      "outputs": [
        {
          "name": "stdout",
          "output_type": "stream",
          "text": [
            "Num: 6231\n",
            "EL numero  6231  es:  impar\n"
          ]
        }
      ],
      "source": [
        "num = int(input(\"Num: \"))\n",
        "print(\"EL numero \", num, \" es: \", parImpar(num))"
      ]
    },
    {
      "cell_type": "markdown",
      "metadata": {
        "id": "QKfRLRFLmfri"
      },
      "source": [
        "Calcular el sueldo"
      ]
    },
    {
      "cell_type": "code",
      "execution_count": null,
      "metadata": {
        "colab": {
          "base_uri": "https://localhost:8080/"
        },
        "id": "G24bsPVqmiGO",
        "outputId": "7945e0c5-8aff-4c50-fff4-a841e4c5f2f6"
      },
      "outputs": [
        {
          "data": {
            "text/plain": [
              "(1500, 0)"
            ]
          },
          "execution_count": 34,
          "metadata": {},
          "output_type": "execute_result"
        }
      ],
      "source": [
        "def calcularSueldo(horasDiarias,valorHora):\n",
        "    if (horasDiarias>8):\n",
        "        horasExtra=horasDiarias-8\n",
        "        horasNormales=8\n",
        "    else:\n",
        "        horasExtra=0\n",
        "        horasNormales=horasDiarias\n",
        "    sueldo = valorHora*(horasNormales+horasExtra*2)*30\n",
        "    return sueldo, horasExtra"
      ]
    },
    {
      "cell_type": "code",
      "execution_count": null,
      "metadata": {
        "colab": {
          "base_uri": "https://localhost:8080/"
        },
        "id": "HQyF8vrqpnll",
        "outputId": "bb413ca5-090c-4c29-8b47-94e264a4c38d"
      },
      "outputs": [
        {
          "name": "stdout",
          "output_type": "stream",
          "text": [
            "Ingresa las horas que trabajas a diario 10\n",
            "Ingresa el valor por hora 10\n",
            "Diariamente trabajas  10.0  horas\n",
            "Diariamente haces  2.0  horas extra\n",
            "Tu sueldo es :  3600.0\n"
          ]
        }
      ],
      "source": [
        "horasDiarias = float(input(\"Ingresa las horas que trabajas a diario \"))\n",
        "valorHora= float(input(\"Ingresa el valor por hora \"))\n",
        "\n",
        "sueldo, horasExtra = calcularSueldo(horasDiarias, valorHora)\n",
        "\n",
        "print(\"Diariamente trabajas \",horasDiarias,\" horas\")\n",
        "print(\"Diariamente haces \",horasExtra,\" horas extra\")\n",
        "print(\"Tu sueldo es : \",sueldo)"
      ]
    },
    {
      "cell_type": "markdown",
      "metadata": {
        "id": "DZNsI_nWj0sm"
      },
      "source": [
        "**TAREA**\n",
        "\n",
        "1.   Convertir Farenheits a Celsius\n",
        "2.   Convertir Celsius y Farenheit a Kelvin\n",
        "\n"
      ]
    },
    {
      "cell_type": "markdown",
      "metadata": {
        "id": "lYytVY06k8P9"
      },
      "source": [
        "**Farenheit a Celsius**"
      ]
    },
    {
      "cell_type": "code",
      "execution_count": null,
      "metadata": {
        "id": "S1-pDzP8kKcF"
      },
      "outputs": [],
      "source": [
        "def convertir_fc(f):\n",
        "  return (f-32)/1.8"
      ]
    },
    {
      "cell_type": "code",
      "execution_count": null,
      "metadata": {
        "colab": {
          "base_uri": "https://localhost:8080/"
        },
        "id": "fsB5G7MokVQ1",
        "outputId": "b32e8b41-c846-4533-9156-78295bc8b019"
      },
      "outputs": [
        {
          "name": "stdout",
          "output_type": "stream",
          "text": [
            "Grados Farenheit: 1\n",
            "Grados Celsius:  -17.22\n"
          ]
        }
      ],
      "source": [
        "f = float(input(\"Grados Farenheit: \"))\n",
        "print(\"Grados Celsius: \", round(convertir_fc(f),2))"
      ]
    },
    {
      "cell_type": "markdown",
      "metadata": {
        "id": "xAyIV0MOlBX_"
      },
      "source": [
        "**Celsius a Kelvin**"
      ]
    },
    {
      "cell_type": "code",
      "execution_count": null,
      "metadata": {
        "id": "tsvyEsv9lFPC"
      },
      "outputs": [],
      "source": [
        "def convertir_ck(c):\n",
        "  return c + 273.15"
      ]
    },
    {
      "cell_type": "code",
      "execution_count": null,
      "metadata": {
        "colab": {
          "base_uri": "https://localhost:8080/"
        },
        "id": "EPdgdPEFlJ5N",
        "outputId": "e44ccc60-d43b-4b8d-89e8-b1fbe4b9f240"
      },
      "outputs": [
        {
          "name": "stdout",
          "output_type": "stream",
          "text": [
            "Grados Celsius: 1\n",
            "Grados Kelvin:  274.15\n"
          ]
        }
      ],
      "source": [
        "c = float(input(\"Grados Celsius: \"))\n",
        "print(\"Grados Kelvin: \", round(convertir_ck(c),2))"
      ]
    },
    {
      "cell_type": "markdown",
      "metadata": {
        "id": "EZy4ULrzla3X"
      },
      "source": [
        "**Farenheit a Kelvin**"
      ]
    },
    {
      "cell_type": "code",
      "execution_count": null,
      "metadata": {
        "id": "ia9LbrHilee3"
      },
      "outputs": [],
      "source": [
        "def convertir_fk(f):\n",
        "  return (f + 459.67) * 5/9"
      ]
    },
    {
      "cell_type": "code",
      "execution_count": null,
      "metadata": {
        "colab": {
          "base_uri": "https://localhost:8080/"
        },
        "id": "1fmU_V1jmH5I",
        "outputId": "6224d38e-772b-4884-ec91-9a8dcfce2c6a"
      },
      "outputs": [
        {
          "name": "stdout",
          "output_type": "stream",
          "text": [
            "Grados Farenheit: 1\n",
            "Grados Kelvin:  255.93\n"
          ]
        }
      ],
      "source": [
        "f = float(input(\"Grados Farenheit: \"))\n",
        "\n",
        "print(\"Grados Kelvin: \", round(convertir_fk(f),2))"
      ]
    },
    {
      "cell_type": "markdown",
      "metadata": {
        "id": "7Je7dDm85-yM"
      },
      "source": [
        "EJERCICIO: calcular el cuadrado de un numero"
      ]
    },
    {
      "cell_type": "code",
      "execution_count": null,
      "metadata": {
        "id": "mIckHlYB6XD0"
      },
      "outputs": [],
      "source": [
        "def elevar(base=0, exp=2):\n",
        "\n",
        "    return base**exp"
      ]
    },
    {
      "cell_type": "code",
      "execution_count": null,
      "metadata": {
        "colab": {
          "base_uri": "https://localhost:8080/"
        },
        "id": "SRlKIKd66IdU",
        "outputId": "5b6df71a-b7a7-4627-b88b-5c08e9ad6ccb"
      },
      "outputs": [
        {
          "name": "stdout",
          "output_type": "stream",
          "text": [
            "Ingresa un numero 2\n",
            "ingresa la potencia 8\n",
            "256.0\n"
          ]
        }
      ],
      "source": [
        "x = float(input(\"Ingresa un numero \"))\n",
        "y= float(input(\"ingresa la potencia \"))\n",
        "print(elevar(x,y))"
      ]
    },
    {
      "cell_type": "markdown",
      "metadata": {
        "id": "0ysB5GHJ6osM"
      },
      "source": [
        "FUNCIONES LAMBDA"
      ]
    },
    {
      "cell_type": "code",
      "execution_count": null,
      "metadata": {
        "id": "skHtHP2A8NYO"
      },
      "outputs": [],
      "source": [
        "elevarLambda = lambda base,exp : base ** exp"
      ]
    },
    {
      "cell_type": "code",
      "execution_count": null,
      "metadata": {
        "colab": {
          "base_uri": "https://localhost:8080/"
        },
        "id": "cSBLD3yx8-BL",
        "outputId": "c9a0c119-0c50-4cb5-a232-934f1dc40bc2"
      },
      "outputs": [
        {
          "name": "stdout",
          "output_type": "stream",
          "text": [
            "Ingresa un numero 64\n",
            "Cuadrado:  4096.0\n"
          ]
        }
      ],
      "source": [
        "num = float(input(\"Ingresa un numero \"))\n",
        "print(\"Cuadrado: \", elevarLambda(num,2))"
      ]
    },
    {
      "cell_type": "code",
      "execution_count": null,
      "metadata": {
        "colab": {
          "base_uri": "https://localhost:8080/"
        },
        "id": "4da-mopO_fgb",
        "outputId": "6de1f3ad-3734-49f7-9ee1-7424b4b66383"
      },
      "outputs": [
        {
          "name": "stdout",
          "output_type": "stream",
          "text": [
            "[1, 4, 9, 16, 25, 36, 49, 64, 81, 100]\n",
            "[1, 4, 9, 16, 25, 36, 49, 64, 81, 100]\n"
          ]
        }
      ],
      "source": [
        "serie = [1,2,3,4,5,6,7,8,9,10]\n",
        "resp = map(lambda x : x**2,serie)\n",
        "print(list(resp))\n",
        "\n",
        "resp2 = map(elevar,serie)\n",
        "print(list(resp2))\n"
      ]
    },
    {
      "cell_type": "markdown",
      "metadata": {
        "id": "mMHEFHfTCxpF"
      },
      "source": [
        "EJERCICIO: obtener la raiz cuadrada de una serie de numeros fijos"
      ]
    },
    {
      "cell_type": "code",
      "execution_count": null,
      "metadata": {
        "id": "EIrKPEvGD5dW"
      },
      "outputs": [],
      "source": [
        "def calcularRaiz(num,raiz=2):\n",
        "    return num**(1/raiz)"
      ]
    },
    {
      "cell_type": "code",
      "execution_count": null,
      "metadata": {
        "colab": {
          "base_uri": "https://localhost:8080/"
        },
        "id": "2naJ5nIiC6R3",
        "outputId": "3e6735dd-d8a5-45c8-c689-59f46ff4a279"
      },
      "outputs": [
        {
          "name": "stdout",
          "output_type": "stream",
          "text": [
            "[1.4142, 2.0, 3.0, 16.0]\n"
          ]
        }
      ],
      "source": [
        "serie = [2, 4, 9, 256]\n",
        "resp = map(lambda x:round(calcularRaiz(x,2),4),serie)\n",
        "print(list(resp))\n"
      ]
    },
    {
      "cell_type": "markdown",
      "metadata": {
        "id": "jEnxQ7058eq0"
      },
      "source": [
        "Ejercicios con funciones preconstruidas:"
      ]
    },
    {
      "cell_type": "markdown",
      "metadata": {
        "id": "Fu-DXklH8tXN"
      },
      "source": [
        "* MAP"
      ]
    },
    {
      "cell_type": "code",
      "execution_count": null,
      "metadata": {
        "colab": {
          "base_uri": "https://localhost:8080/"
        },
        "id": "blGDsM-I8zSD",
        "outputId": "834c181c-0ed1-4ad1-a782-2b01c8f62994"
      },
      "outputs": [
        {
          "name": "stdout",
          "output_type": "stream",
          "text": [
            "[2, 4, 6, 8, 10, 12, 14, 16, 18, 20]\n"
          ]
        }
      ],
      "source": [
        "numeros = [1,2,3,4,5,6,7,8,9,10]\n",
        "print(list(map(lambda n : n*2, numeros)))"
      ]
    },
    {
      "cell_type": "code",
      "execution_count": null,
      "metadata": {
        "colab": {
          "base_uri": "https://localhost:8080/"
        },
        "id": "Y4BLHA0A9Ndm",
        "outputId": "6ecc8036-2c40-49a5-80b8-7434d4019c37"
      },
      "outputs": [
        {
          "name": "stdout",
          "output_type": "stream",
          "text": [
            "Ingrese el numero de la tabla a calcular: 6\n",
            "[6, 12, 18, 24, 30, 36, 42, 48, 54, 60]\n"
          ]
        }
      ],
      "source": [
        "numeros = [1,2,3,4,5,6,7,8,9,10]\n",
        "tabla = int(input(\"Ingrese el numero de la tabla a calcular: \"))\n",
        "print(list(map(lambda n : n*tabla, numeros)))"
      ]
    },
    {
      "cell_type": "markdown",
      "metadata": {
        "id": "kE2g7mli969Q"
      },
      "source": [
        "\n",
        "\n",
        "*   FILTER"
      ]
    },
    {
      "cell_type": "code",
      "execution_count": null,
      "metadata": {
        "colab": {
          "base_uri": "https://localhost:8080/"
        },
        "id": "ZVxXYelA-FkT",
        "outputId": "989527f5-b54c-43bd-82c2-18f085453214"
      },
      "outputs": [
        {
          "name": "stdout",
          "output_type": "stream",
          "text": [
            "Pares:  [2, 4, 6, 8, 10]\n",
            "Impares:  [1, 3, 5, 7, 9]\n"
          ]
        }
      ],
      "source": [
        "numeros = [1,2,3,4,5,6,7,8,9,10]\n",
        "print(\"Pares: \", list(filter(lambda n: n % 2 == 0, numeros)))\n",
        "print(\"Impares: \", list(filter(lambda n: n % 2 == 1, numeros)))"
      ]
    },
    {
      "cell_type": "markdown",
      "metadata": {
        "id": "qt0P1_si_J96"
      },
      "source": [
        "* Reduce"
      ]
    },
    {
      "cell_type": "code",
      "execution_count": null,
      "metadata": {
        "colab": {
          "base_uri": "https://localhost:8080/"
        },
        "id": "TXdhjgf1_MCZ",
        "outputId": "1a9dfb07-b2d1-4994-c10a-6dd348f9b29f"
      },
      "outputs": [
        {
          "name": "stdout",
          "output_type": "stream",
          "text": [
            "Suma:  31\n"
          ]
        }
      ],
      "source": [
        "from functools import reduce\n",
        "numeros = [2,5,7,8,9]\n",
        "print(\"Suma: \", reduce(lambda n,acum: n+acum,numeros))"
      ]
    },
    {
      "cell_type": "code",
      "execution_count": null,
      "metadata": {
        "colab": {
          "base_uri": "https://localhost:8080/"
        },
        "id": "49RHivzLANUR",
        "outputId": "4a569316-7d7c-419e-e135-1deeb72ef6b3"
      },
      "outputs": [
        {
          "name": "stdout",
          "output_type": "stream",
          "text": [
            "Mayor:  334\n",
            "Menor:  2\n"
          ]
        }
      ],
      "source": [
        "numeros = [2,8,7,53,85,232,334]\n",
        "print(\"Mayor: \", reduce(lambda n, mayor: n if n>mayor else mayor, numeros))\n",
        "print(\"Menor: \", reduce(lambda n, mayor: n if n<mayor else mayor, numeros))"
      ]
    },
    {
      "cell_type": "markdown",
      "metadata": {
        "id": "qg52muybA2nV"
      },
      "source": [
        "# Tuplas"
      ]
    },
    {
      "cell_type": "code",
      "execution_count": null,
      "metadata": {
        "colab": {
          "base_uri": "https://localhost:8080/"
        },
        "id": "qrl_jDdyA575",
        "outputId": "51eecebe-ffb9-4f56-b8a2-ba9f81c14e8d"
      },
      "outputs": [
        {
          "name": "stdout",
          "output_type": "stream",
          "text": [
            "Tupla: (3, 24, 2, 5, 6, 2, 8, 4) \n",
            "Primer: 3 \n",
            "Último: 4 \n",
            "Rango 2-6: (2, 5, 6, 2)\n"
          ]
        }
      ],
      "source": [
        "numeros = (3,24,2,5,6,2,8,4)\n",
        "print(\"Tupla:\", numeros,\"\\nPrimer:\", numeros[0],\"\\nÚltimo:\",numeros[-1],\n",
        "\"\\nRango 2-6:\", numeros[2:6])"
      ]
    },
    {
      "cell_type": "code",
      "execution_count": null,
      "metadata": {
        "colab": {
          "base_uri": "https://localhost:8080/"
        },
        "id": "RBzKDs_pC_QR",
        "outputId": "543d94ba-4d6f-4feb-d1e0-1a0c82eef8f4"
      },
      "outputs": [
        {
          "name": "stdout",
          "output_type": "stream",
          "text": [
            "primer día: domingo \n",
            "Cuántas veces se repite domingo: 1 \n",
            "Días de la semana: 7\n"
          ]
        }
      ],
      "source": [
        "semana = (\"domingo\",\"lunes\",\"martes\",\"miercoles\",\"jueves\",\"viernes\",\"sabado\")\n",
        "print(\"primer día:\",semana[0],\"\\nCuántas veces se repite domingo:\",semana.count\n",
        " (\"domingo\"),\"\\nDías de la semana:\",len(semana))"
      ]
    },
    {
      "cell_type": "code",
      "execution_count": null,
      "metadata": {
        "colab": {
          "base_uri": "https://localhost:8080/"
        },
        "id": "Fzb0HhVOEIs9",
        "outputId": "eb557251-1161-471c-f364-fa3723d96e33"
      },
      "outputs": [
        {
          "name": "stdout",
          "output_type": "stream",
          "text": [
            "Fecha: viernes 2 de septiembre del 2024\n"
          ]
        }
      ],
      "source": [
        "import datetime\n",
        "\n",
        "hoy = datetime.date.today()\n",
        "dia = hoy.day\n",
        "mes = hoy.month\n",
        "año = hoy.year\n",
        "dia_semana = hoy.isoweekday()\n",
        "\n",
        "semana = (\"domingo\",\"lunes\",\"martes\",\"miercoles\",\"jueves\",\"viernes\",\"sabado\")\n",
        "\n",
        "meses = (\"enero\",\"febrero\",\"marzo\",\"abril\",\"mayo\",\"junio\",\"julio\",\"agosto\",\n",
        "\"septiembre\",\"octubre\",\"noviembre\",\"diciembre\")\n",
        "\n",
        "print(\"Fecha:\",semana[dia_semana], dia, \"de\",meses[mes],\"del\",año)"
      ]
    },
    {
      "cell_type": "code",
      "execution_count": null,
      "metadata": {
        "colab": {
          "base_uri": "https://localhost:8080/"
        },
        "id": "W3-t5aE8FmCe",
        "outputId": "d0ab7a39-1a02-4950-eabc-3478bf03a0c8"
      },
      "outputs": [
        {
          "name": "stdout",
          "output_type": "stream",
          "text": [
            "('Pepe', 'Pablo')\n",
            "['Pedro', 'Pablo']\n"
          ]
        }
      ],
      "source": [
        "tuplas = (\"Pepe\",\"Pablo\")\n",
        "#tuplas[0]=\"Pedro\" - Las tuplas son inmutables\n",
        "print(tuplas)\n",
        "\n",
        "listas = [\"Pepe\",\"Pablo\"]\n",
        "listas[0]=\"Pedro\" #Las listas si son mutables\n",
        "print(listas)"
      ]
    },
    {
      "cell_type": "markdown",
      "metadata": {
        "id": "LAHd5RwRGk4x"
      },
      "source": [
        "#Listas"
      ]
    },
    {
      "cell_type": "code",
      "execution_count": null,
      "metadata": {
        "colab": {
          "base_uri": "https://localhost:8080/"
        },
        "id": "bCrEjbEAGnIT",
        "outputId": "82ec0c10-ffce-447d-b10f-ca12f3d5c16d"
      },
      "outputs": [
        {
          "name": "stdout",
          "output_type": "stream",
          "text": [
            "[4, 5, 2, 'a', 'Hola', True] True\n"
          ]
        }
      ],
      "source": [
        "listas = [4,5,2,\"a\",\"Hola\",True]\n",
        "print(listas,listas[-1])"
      ]
    },
    {
      "cell_type": "code",
      "execution_count": null,
      "metadata": {
        "id": "g6ryy7hFIRn9"
      },
      "outputs": [],
      "source": [
        "def obtenerNota(nota, eval):\n",
        "  return eval[1]/3 + nota"
      ]
    },
    {
      "cell_type": "code",
      "execution_count": null,
      "metadata": {
        "colab": {
          "base_uri": "https://localhost:8080/"
        },
        "id": "NwU-nZPlHKkh",
        "outputId": "4abf66a5-f505-462d-9e40-87fef6284f62"
      },
      "outputs": [
        {
          "data": {
            "text/plain": [
              "10.0"
            ]
          },
          "execution_count": 2,
          "metadata": {},
          "output_type": "execute_result"
        }
      ],
      "source": [
        "from functools import reduce\n",
        "matriz = [ [\"Lab1\", 10],[\"Lab2\", 10], [\"Parcial\", 10] ]\n",
        "reduce(obtenerNota, matriz, 0)"
      ]
    },
    {
      "cell_type": "code",
      "execution_count": null,
      "metadata": {
        "colab": {
          "base_uri": "https://localhost:8080/"
        },
        "id": "hbet0QR6BxDE",
        "outputId": "e9615557-7c79-4b7a-feb0-e359b92a5c8a"
      },
      "outputs": [
        {
          "name": "stdout",
          "output_type": "stream",
          "text": [
            "2\n"
          ]
        }
      ],
      "source": [
        "serie = [1,2,3,3,4,4,1,8,9]\n",
        "print(serie.count(1))"
      ]
    },
    {
      "cell_type": "code",
      "execution_count": null,
      "metadata": {
        "colab": {
          "base_uri": "https://localhost:8080/"
        },
        "id": "RK0XEVL8Bx5O",
        "outputId": "f029d79e-2639-4434-ff1c-9d8d8891d613"
      },
      "outputs": [
        {
          "name": "stdout",
          "output_type": "stream",
          "text": [
            "Num: 1: 2\n",
            "Num: 2: 3\n",
            "Num: 3: 4\n",
            "Num: 4: 55\n",
            "Num: 5: 6\n",
            "Num: 6: 1\n",
            "Num: 7: 2\n",
            "Num: 8: 3\n",
            "Num: 9: 2\n",
            "Num a buscar: 2\n",
            "Serie:  [2, 3, 4, 55, 6, 1, 2, 3, 2] El numero  2 , se repite:  3\n"
          ]
        }
      ],
      "source": [
        "numeros = []\n",
        "for i in range(1,10):\n",
        "  numeros.append(int(input(\"Num: \"+ str(i)+\": \")))\n",
        "num = int(input(\"Num a buscar: \"))\n",
        "print(\"Serie: \", numeros, \"El numero \", num, \", se repite: \", numeros.count(num))\n"
      ]
    },
    {
      "cell_type": "code",
      "execution_count": null,
      "metadata": {
        "colab": {
          "base_uri": "https://localhost:8080/"
        },
        "id": "eqOSpUHfB05u",
        "outputId": "37877b87-bdc0-441d-da7e-d169018e0d24"
      },
      "outputs": [
        {
          "name": "stdout",
          "output_type": "stream",
          "text": [
            "[6, 5, 4, 2, 2, 1, 1]\n"
          ]
        }
      ],
      "source": [
        "numeros = [1,5,2,6,2,1,4]\n",
        "numeros.sort()\n",
        "numeros.reverse()\n",
        "print(numeros)"
      ]
    },
    {
      "cell_type": "markdown",
      "metadata": {
        "id": "4Wl50V_4B45m"
      },
      "source": [
        "#Diccionarios"
      ]
    },
    {
      "cell_type": "code",
      "execution_count": null,
      "metadata": {
        "colab": {
          "base_uri": "https://localhost:8080/"
        },
        "id": "VNTJTrgVB7FH",
        "outputId": "29633f19-6d07-42ff-a891-02c8329dc346"
      },
      "outputs": [
        {
          "name": "stdout",
          "output_type": "stream",
          "text": [
            "Daniel Guerrero Programacion III {'lab1': 9, 'lab2': 8, 'parcial': 8}\n"
          ]
        }
      ],
      "source": [
        "datos = {\n",
        "    \"codigo\":\"USSS037423\",\n",
        "    \"nombre\":\"Daniel Guerrero\",\n",
        "    \"materias\":[\n",
        "        {\"codigo\":\"611\",\"nombre\":\"Programacion III\",\"notas\":{\n",
        "            \"c1\":{\"lab1\":9,\"lab2\":8,\"parcial\":8},\n",
        "            \"c2\":{\"lab1\":9,\"lab2\":10,\"parcial\":9},\n",
        "            \"c3\":{\"lab1\":8,\"lab2\":9,\"parcial\":8}\n",
        "            }\n",
        "         },\n",
        "        {\"codigo\":\"612\",\"nombre\":\"Base de Datos\"}\n",
        "    ]\n",
        "}\n",
        "print(datos[\"nombre\"], datos[\"materias\"][0][\"nombre\"], datos[\"materias\"][0][\"notas\"][\"c1\"])"
      ]
    },
    {
      "cell_type": "markdown",
      "metadata": {
        "id": "_RaBcjxaFs6X"
      },
      "source": [
        "#Estructuras de Control"
      ]
    },
    {
      "cell_type": "markdown",
      "metadata": {
        "id": "jGqaH4JYGAYj"
      },
      "source": [
        "EJERCICIO: Solicitar la edad al usuario y determinar su clasificación"
      ]
    },
    {
      "cell_type": "code",
      "execution_count": null,
      "metadata": {
        "colab": {
          "base_uri": "https://localhost:8080/"
        },
        "id": "eivJH9AtFxmX",
        "outputId": "ab2cf9bb-a19e-4a5b-95ed-4beb52c77c17"
      },
      "outputs": [
        {
          "name": "stdout",
          "output_type": "stream",
          "text": [
            "Ingresa tu dedad: 42\n",
            "Bienvenido al mundo de las responsabilidades\n"
          ]
        }
      ],
      "source": [
        "edad = int(input(\"Ingresa tu dedad: \"))\n",
        "if edad > 17:\n",
        "    print(\"Bienvenido al mundo de las responsabilidades\")\n"
      ]
    },
    {
      "cell_type": "code",
      "execution_count": null,
      "metadata": {
        "colab": {
          "base_uri": "https://localhost:8080/"
        },
        "id": "CIvXbSGZHXwD",
        "outputId": "30593eac-4103-4e7d-9924-7e9e3ea75a0a"
      },
      "outputs": [
        {
          "name": "stdout",
          "output_type": "stream",
          "text": [
            "Ingresa tu dedad: 2\n",
            "Eres un bebe\n",
            "Presiona s si quieres continuar: s\n",
            "Ingresa tu dedad: -2\n",
            "Aun no naces o que?\n",
            "Presiona s si quieres continuar: s\n",
            "Ingresa tu dedad: 150\n",
            "Ni Chabelo se atrevió a tanto\n",
            "Presiona s si quieres continuar: \n"
          ]
        }
      ],
      "source": [
        "continuar = \"s\"\n",
        "while continuar ==\"s\":\n",
        "    edad = int(input(\"Ingresa tu dedad: \"))\n",
        "    if edad < 0:\n",
        "        print (\"Aun no naces o que?\")\n",
        "    elif edad <= 2:\n",
        "        print(\"Eres un bebe\")\n",
        "    elif edad < 12:\n",
        "        print(\"Eres un niño\")\n",
        "    elif edad < 18:\n",
        "        print(\"Eres un adolescente\")\n",
        "    elif edad < 65 :\n",
        "        print(\"Eres un adulto\")\n",
        "    elif edad < 85:\n",
        "        print(\"Eres un adulto mayor\")\n",
        "    elif edad < 120:\n",
        "        print(\"Larga vida\")\n",
        "    else:\n",
        "        print(\"Ni Chabelo se atrevió a tanto\")\n",
        "    continuar = input(\"Presiona s si quieres continuar: \")"
      ]
    },
    {
      "cell_type": "code",
      "execution_count": null,
      "metadata": {
        "colab": {
          "base_uri": "https://localhost:8080/"
        },
        "id": "DLmX4zNBKG-F",
        "outputId": "9a2ec8ad-a5b9-47ec-aa6f-142b60eea1e9"
      },
      "outputs": [
        {
          "name": "stdout",
          "output_type": "stream",
          "text": [
            "Ingresa un numero: 12\n",
            "Positivo\n"
          ]
        }
      ],
      "source": [
        "num = int(input(\"Ingresa un numero: \"))\n",
        "if num<0:\n",
        "    print(\"Negativo\")\n",
        "elif num==0:\n",
        "    print(\"Cero\")\n",
        "else:\n",
        "    print(\"Positivo\")"
      ]
    },
    {
      "cell_type": "markdown",
      "metadata": {
        "id": "h2W4oxvjOTCq"
      },
      "source": [
        "**Solicitar una tabla de muliplicar y generarla**"
      ]
    },
    {
      "cell_type": "code",
      "execution_count": null,
      "metadata": {
        "colab": {
          "background_save": true,
          "base_uri": "https://localhost:8080/"
        },
        "id": "-U-2bffYObsi",
        "outputId": "d76e0cb5-a258-457d-c4b7-6baceb2b95df"
      },
      "outputs": [
        {
          "name": "stdout",
          "output_type": "stream",
          "text": [
            "7 x 1 = 7\n",
            "7 x 2 = 14\n",
            "7 x 3 = 21\n",
            "7 x 4 = 28\n",
            "7 x 5 = 35\n",
            "7 x 6 = 42\n",
            "7 x 7 = 49\n",
            "7 x 8 = 56\n",
            "7 x 9 = 63\n",
            "7 x 10 = 70\n"
          ]
        }
      ],
      "source": [
        "continuar = \"s\"\n",
        "while continuar == \"s\":\n",
        "    tabla = int(input(\"Tabla: \"))\n",
        "    for i in range(1,11):\n",
        "        print(tabla,\"x\",i,\"=\",tabla*i)\n",
        "    continuar=input(\"Continuar? \")\n"
      ]
    },
    {
      "cell_type": "markdown",
      "source": [
        "##POO"
      ],
      "metadata": {
        "id": "KBkWiwjrhewn"
      }
    },
    {
      "cell_type": "markdown",
      "source": [
        "#Clases"
      ],
      "metadata": {
        "id": "NxiDIT2ihk2L"
      }
    },
    {
      "cell_type": "code",
      "source": [
        "class Calculadora:\n",
        "  def sumar(self, num1, num2):\n",
        "    return num1 + num2"
      ],
      "metadata": {
        "id": "dzU_kdOmhm85"
      },
      "execution_count": null,
      "outputs": []
    },
    {
      "cell_type": "markdown",
      "source": [
        "#Objetos"
      ],
      "metadata": {
        "id": "vlvq_CjohrAA"
      }
    },
    {
      "cell_type": "code",
      "source": [
        "objCalculadora = Calculadora()\n",
        "num1 = float(input(\"Num 1: \"))\n",
        "num2 = float(input(\"Num 2: \"))\n",
        "print(\"Suma: \", objCalculadora.sumar(num1, num2))"
      ],
      "metadata": {
        "id": "CUIwP2fIhuE6"
      },
      "execution_count": null,
      "outputs": []
    },
    {
      "cell_type": "markdown",
      "source": [
        "*Ejercicio:* Escriba un programa que lea una serie de numeros introducidos por el usuario, y determine la media aritmetica."
      ],
      "metadata": {
        "id": "-j4byKOph358"
      }
    },
    {
      "cell_type": "code",
      "source": [
        "from math import sqrt\n",
        "\n",
        "class estadistica:\n",
        "    def media(self, serie):\n",
        "        suma = 0\n",
        "        for num in serie:\n",
        "            suma += num\n",
        "        return suma/len(serie)\n",
        "\n",
        "    def tipica(self, serie):\n",
        "        media = self.media(serie)\n",
        "        suma = 0\n",
        "        for num in serie:\n",
        "            suma += (num-media)**2\n",
        "        return sqrt(suma/len(serie))\n",
        "\n",
        "    #TAREA\n",
        "\n",
        "    def varianza(self, serie):\n",
        "        media = self.media(serie)\n",
        "        return sum([(x-media)**2 for x in serie])/len(serie)\n",
        "\n",
        "    def frecuencias_absolutas(self, serie):\n",
        "        serie_sin_repetir = list(set(serie))\n",
        "        return [(x, serie.count(x)) for x in serie_sin_repetir]\n",
        "\n",
        "    def frecuencias_relativas(self, serie):\n",
        "        return [(x, serie.count(x)/len(serie)) for x in list(set(serie))]"
      ],
      "metadata": {
        "id": "0gfbmXJ_iBge"
      },
      "execution_count": null,
      "outputs": []
    },
    {
      "cell_type": "code",
      "source": [],
      "metadata": {
        "id": "eNx1awU_CXxq"
      },
      "execution_count": null,
      "outputs": []
    },
    {
      "cell_type": "code",
      "source": [
        "n = int(input(\"Cuantos numeros va a ingresar: \"))\n",
        "serie = []\n",
        "for num in range(1,n+1):\n",
        "  serie.append(int(input(\"Num: \")))\n",
        "\n",
        "objEstadistica = estadistica()\n",
        "print(\"La media es: \", objEstadistica.media(serie))\n",
        "\n",
        "print(\"La desviacion tipica es: \", round(objEstadistica.tipica(serie),3) )\n",
        "\n",
        "#Tarea\n",
        "print(f\"La varianza es: {round(estadistica().varianza(serie),2)} \")\n",
        "\n",
        "print(\"\\nFrecuencias absolutas:\")\n",
        "print(\"\\nDato \\tFrecuencia absoluta\")\n",
        "for x in estadistica().frecuencias_absolutas(serie):\n",
        "    print(f\"{x[0]} \\t\\t{x[1]}\")\n",
        "\n",
        "print(\"\\nFrecuencias relativas:\")\n",
        "print(\"\\nDato \\tFrecuencia relativa\")\n",
        "for x in estadistica().frecuencias_relativas(serie):\n",
        "    print(f\"{x[0]} \\t\\t{round(x[1],2)}\")\n"
      ],
      "metadata": {
        "colab": {
          "base_uri": "https://localhost:8080/"
        },
        "id": "Jv5uFtkMiJ5W",
        "outputId": "efc6028e-ecd3-4511-8494-792e49916450"
      },
      "execution_count": null,
      "outputs": [
        {
          "output_type": "stream",
          "name": "stdout",
          "text": [
            "Cuantos numeros va a ingresar: 10\n",
            "Num: 1\n",
            "Num: 1\n",
            "Num: 1\n",
            "Num: 2\n",
            "Num: 2\n",
            "Num: 3\n",
            "Num: 3\n",
            "Num: 3\n",
            "Num: 3\n",
            "Num: 4\n",
            "La media es:  2.3\n",
            "La desviacion tipica es:  1.005\n",
            "La varianza es: 1.01 \n",
            "\n",
            "Frecuencias absolutas:\n",
            "\n",
            "Dato \tFrecuencia absoluta\n",
            "1 \t\t3\n",
            "2 \t\t2\n",
            "3 \t\t4\n",
            "4 \t\t1\n",
            "\n",
            "Frecuencias relativas:\n",
            "\n",
            "Dato \tFrecuencia relativa\n",
            "1 \t\t0.3\n",
            "2 \t\t0.2\n",
            "3 \t\t0.4\n",
            "4 \t\t0.1\n"
          ]
        }
      ]
    },
    {
      "cell_type": "markdown",
      "source": [
        "Palindromes"
      ],
      "metadata": {
        "id": "1nnsGrWfjxPs"
      }
    },
    {
      "cell_type": "code",
      "source": [
        "palabra = input(\"Ingresa una palabra: \")\n",
        "palabra_invertida = palabra[::-1]\n",
        "if palabra.lower() == palabra_invertida.lower():\n",
        "    print(\"Es palindrome\")\n",
        "else:\n",
        "    print(\"No es palindrome\")"
      ],
      "metadata": {
        "colab": {
          "base_uri": "https://localhost:8080/"
        },
        "id": "Ko3wor8IjzID",
        "outputId": "010eec76-15de-44eb-bad3-63f36ae78c2d"
      },
      "execution_count": null,
      "outputs": [
        {
          "output_type": "stream",
          "name": "stdout",
          "text": [
            "Ingresa una palabra: Reconocer\n",
            "Es palindrome\n"
          ]
        }
      ]
    },
    {
      "cell_type": "markdown",
      "source": [
        "#LABORATORIO 2"
      ],
      "metadata": {
        "id": "hQd-6kmmjQyU"
      }
    },
    {
      "cell_type": "markdown",
      "source": [
        "##Ejercicio 1"
      ],
      "metadata": {
        "id": "5BelSJRojYng"
      }
    },
    {
      "cell_type": "code",
      "source": [
        "import math\n",
        "isss = 0.03\n",
        "afp = 0.0625\n",
        "tabla_isr = {\n",
        "    \"desde\":[0.01, 472.01, 895.25, 2038.11],\n",
        "    \"hasta\":[472, 895.24, 2038.10, math.inf],\n",
        "    \"porcentaje\":[0.00, 0.10, 0.20, 0.30],\n",
        "    \"cuota_fija\":[0.00, 17.67, 60.00, 288.57]\n",
        "}\n",
        "frecuencias = {\"mensual\":1,\"quincenal\":2,\"semanal\":4}\n",
        "\n",
        "def calcular_isr(sueldo,frecuencia):\n",
        "    sueldo *= 1-(afp+isss)\n",
        "    for i in range(len(tabla_isr[\"desde\"])):\n",
        "        if tabla_isr[\"desde\"][i]/frecuencias[frecuencia]<=sueldo<tabla_isr[\"hasta\"][i]/frecuencias[frecuencia]:\n",
        "            return (sueldo-tabla_isr[\"desde\"][i]/frecuencias[frecuencia])*tabla_isr[\"porcentaje\"][i]+tabla_isr[\"cuota_fija\"][i]/frecuencias[frecuencia]\n",
        "    return 0\n",
        "def calcular_sueldo(sueldo,isr,isss,afp):\n",
        "    return sueldo*(1-(isss+afp))-isr\n",
        "\n",
        "def obtener_sueldo():\n",
        "    try:\n",
        "        sueldo_bruto = float(input(\"Ingresa tu sueldo: \"))\n",
        "    except:\n",
        "        print(\"Debes ingresar un numero\")\n",
        "        return obtener_sueldo()\n",
        "    if sueldo_bruto<0:\n",
        "        print(\"Tu sueldo no puede ser negativo!\")\n",
        "        return obtener_sueldo()\n",
        "    elif sueldo_bruto <= 0.01:\n",
        "        print(\"Te entiendo y lamento tu desafortunada situación ¡Espero que encuentres trabajo pronto!\",\n",
        "        \"\\n¡El lado bueno es que no pagas impuestos!\")\n",
        "        return 0\n",
        "    else:\n",
        "        return sueldo_bruto\n",
        "\n",
        "def obtener_frecuencia():\n",
        "    frecuencia = input(\"Ingresa tu frecuencia de pago (mensual, quincenal, semanal): \")\n",
        "    if frecuencia ==\"\":\n",
        "        frecuencia = \"mensual\"\n",
        "    if frecuencia not in frecuencias:\n",
        "        print(\"Frecuencia no válida\")\n",
        "        return obtener_frecuencia()\n",
        "    return frecuencia\n",
        "\n",
        "#--------------------------------------------------------------------------------\n",
        "\n",
        "frecuencia_pago = obtener_frecuencia()\n",
        "sueldo_bruto = obtener_sueldo()\n",
        "if sueldo_bruto > 0 :\n",
        "    isr = calcular_isr(sueldo_bruto,frecuencia_pago)\n",
        "    sueldo_neto = calcular_sueldo(sueldo_bruto,isr,afp,isss)\n",
        "    print(f\"Debes pagar los siguientes impuestos de forma {frecuencia_pago}:\",\n",
        "        \"\\nISSS: \",round(isss*sueldo_bruto,2),\n",
        "        \"\\nAFP:\",round(afp*sueldo_bruto,2),\n",
        "        \"\\nISR:\",round(isr,2)\n",
        "        )\n",
        "    print(\"Tu sueldo neto es de: \",round(sueldo_neto,2))"
      ],
      "metadata": {
        "colab": {
          "base_uri": "https://localhost:8080/"
        },
        "id": "7WKmVbO6jkDV",
        "outputId": "2a158ad9-c592-4875-f554-ddce357061c0"
      },
      "execution_count": null,
      "outputs": [
        {
          "output_type": "stream",
          "name": "stdout",
          "text": [
            "Ingresa tu frecuencia de pago (mensual, quincenal, semanal): 800\n",
            "Frecuencia no válida\n",
            "Ingresa tu frecuencia de pago (mensual, quincenal, semanal): \n",
            "Ingresa tu sueldo: 800\n",
            "Debes pagar los siguientes impuestos de forma mensual: \n",
            "ISSS:  24.0 \n",
            "AFP: 50.0 \n",
            "ISR: 43.07\n",
            "Tu sueldo neto es de:  682.93\n"
          ]
        }
      ]
    },
    {
      "cell_type": "markdown",
      "source": [
        "##Ejercicio 2"
      ],
      "metadata": {
        "id": "0WQUkS4wjdTp"
      }
    },
    {
      "cell_type": "code",
      "source": [
        "import math\n",
        "tabla = {\n",
        "    \"desde\":[1,19,29],\n",
        "    \"porcentaje\":[0,0.45,0.65]}\n",
        "\n",
        "def calcular_tarifa(metros):\n",
        "    tarifa = 6\n",
        "    i=len(tabla[\"desde\"])-1\n",
        "    while(i>=0):\n",
        "        if tabla[\"desde\"][i] <= metros:\n",
        "            exceso = metros-tabla[\"desde\"][i]+1\n",
        "            metros-=exceso\n",
        "            tarifa += exceso*tabla[\"porcentaje\"][i]\n",
        "        i-=1\n",
        "    return tarifa\n",
        "\n",
        "metros_consumidos = float(input(\"Ingresa la cantidad de metros de agua consumidos: \"))\n",
        "print(\"La tarifa es:\",round(calcular_tarifa(metros_consumidos),2))"
      ],
      "metadata": {
        "colab": {
          "base_uri": "https://localhost:8080/"
        },
        "id": "vRyJHXcYkBF9",
        "outputId": "7a9552bc-d64a-4897-e928-bbde22b50e19"
      },
      "execution_count": null,
      "outputs": [
        {
          "output_type": "stream",
          "name": "stdout",
          "text": [
            "Ingresa la cantidad de metros de agua consumidos: 38\n",
            "La tarifa es: 17.0\n"
          ]
        }
      ]
    },
    {
      "cell_type": "markdown",
      "source": [
        "##Ejercicio 3"
      ],
      "metadata": {
        "id": "ZN2Tm0xijewj"
      }
    },
    {
      "cell_type": "code",
      "source": [
        "def calcular_meses(n):\n",
        "    return (n*(n+1))//2\n",
        "\n",
        "def mostrar_meses(inicio,fin):\n",
        "    for i in range(inicio,fin+1):\n",
        "        print(f\"Mes {i}: {calcular_meses(i)}\")\n",
        "\n",
        "n=int(input(\"Ingresa la cantidad de meses: \"))\n",
        "\n",
        "if n < 12:\n",
        "    mostrar_meses(1,n)\n",
        "else:\n",
        "    mostrar_meses(1,6)\n",
        "    print(\"...\")\n",
        "    mostrar_meses(n-6,n)"
      ],
      "metadata": {
        "colab": {
          "base_uri": "https://localhost:8080/"
        },
        "id": "V6yEuMp7kJqq",
        "outputId": "f5b9a041-04d4-4075-ca71-f479da8cf006"
      },
      "execution_count": null,
      "outputs": [
        {
          "output_type": "stream",
          "name": "stdout",
          "text": [
            "Ingresa la cantidad de meses: 10\n",
            "Mes 1: 1\n",
            "Mes 2: 3\n",
            "Mes 3: 6\n",
            "Mes 4: 10\n",
            "Mes 5: 15\n",
            "Mes 6: 21\n",
            "Mes 7: 28\n",
            "Mes 8: 36\n",
            "Mes 9: 45\n",
            "Mes 10: 55\n"
          ]
        }
      ]
    },
    {
      "cell_type": "markdown",
      "source": [
        "##Ejercicio 4"
      ],
      "metadata": {
        "id": "M1Ss4WlZjg22"
      }
    },
    {
      "cell_type": "code",
      "source": [
        "conversor={\n",
        "\"Monedas\":{\"Dolares\":1, \"Euros\":0.90, \"Colones Salvadoreños\":8.76,  \"Córdobas\":36.84, \"Lempiras\":24.80,  \"Libras esterlinas\":0.77, \"Yenes\":145.95, \"Pesos mexicanos\":19.01, \"Quetzales\":7.75, \"Pesos argentinos\":943.75},\n",
        "\"Longitud\":{\"Metros\":1,\"Centímetros\":100,\"Milímetros\":1000,\"Micrómetros\":1000000,\"Nanómetros\":1000000000,\"Kilómetros\":1/1000,\"Millas\":1/1609,\"Pulgadas\":3.281*12,\"Pies\":3.281,\"Yardas\":3.281/3},\n",
        "\"Masa\":{\"Kilogramos\":1,\"Gramos\":1000,\"Miligramos\":10**3,\"Microgramos\":10**6,\"Libras\":2.20462,\"Onzas\":2.20462*16,\"Stones\":2.20462/14,\"Toneladas\":1/1000,\"Toneladas largas\":1/1016,\"Toneladas cortas\":2.20462/2000,},\n",
        "\"Almacenamiento\":{\"Bits\":1,\"Bytes\":8,\"Kilobytes\":8/1000,\"Megabytes\":8/10**6,\"Gigabytes\":8/10**9,\"Terabytes\":8/10**12,\"Kibibytes\":8/1024,\"Mebibytes\":8/1024**2,\"Gibibytes\":8/1024**3,\"Tebibytes\":8/1024**4},\n",
        "\"Tiempo\":{\"Microsegundos\":3600*10**6,\"Milisegundos\":3600*1000,\"Segundos\":3600,\"Minutos\":60,\"Horas\":1,\"Días\":1/24,\"Semanas\":1/(24*7),\"Meses\":1/(24*30),\"Años\":1/(24*365),\"Décadas\":1/(24*365*10),\"Siglos\":1/(24*365*100)},\n",
        "\"Volúmen\":{\"Litros\":1,\"Mililitros\":1000,\"Galones\":1/3.7854,\"Cuartos\":4/3.7854,\"Pintas\":8/3.7854,\"Tazas\":1000/240,\"Onzas\":128/3.7854,\"Cucharadas\":256/3.7854,\"Cucharaditas\":768/3.7854},\n",
        "\"Área\":{\"Km cuadrados\":1,\"Hectáreas\":100,\"Metros cuadrados\":10**6,\"Pies cuadrados\":10.764*10**6,\"Yardas cuadradas\":1.196*10**6,\"Acres\":247.105,\"Millas cuadradas\":0.386102,\"Pulgadas cuadradas\":1.55*10**9,\"Manzanas\":143.0828,\"Tareas\":143.0828*16},\n",
        "}\n",
        "\n",
        "def mostrar_magnitudes():\n",
        "    print(\"Magnitudes disponibles:\")\n",
        "    for i in conversor.keys():\n",
        "        print(f\"-{i}\")\n",
        "\n",
        "def mostrar_unidades(magnitud):\n",
        "    print(f\"Unidades de {magnitud}:\")\n",
        "    for u in conversor[magnitud].keys():\n",
        "        print(f\"-{u}\")\n",
        "\n",
        "\n",
        "def obtener_unidad(magnitud,tipo):\n",
        "    unidad = input(f\"Convertir {tipo}: \")\n",
        "    if unidad not in conversor[magnitud]:\n",
        "        print(f\"La unidad {unidad} no está disponible en {magnitud}\")\n",
        "        return obtener_unidad(magnitud,tipo)\n",
        "    return unidad\n",
        "\n",
        "def obtener_magnitud():\n",
        "    magnitud=input(\"Ingresa que quieres convertir: \")\n",
        "    if magnitud not in conversor.keys():\n",
        "        print(f\"La magnitud {magnitud} no está disponible\")\n",
        "        return obtener_magnitud()\n",
        "    return magnitud\n",
        "\n",
        "def obtener_cantidad():\n",
        "    try :\n",
        "        cantidad = float(input(\"Cantidad:\"))\n",
        "    except:\n",
        "        print(\"Debes ingresar un numero\")\n",
        "        return obtener_cantidad()\n",
        "    return cantidad\n",
        "\n",
        "def convertir(magnitud,de,a,cantidad):\n",
        "    res=cantidad*conversor[magnitud][a]/conversor[magnitud][de]\n",
        "    print(f\"{cantidad} {de} equivalen a {res} {a}\")\n",
        "#------------------------------------------------------------------------------\n",
        "\n",
        "mostrar_magnitudes()\n",
        "magnitud = obtener_magnitud()\n",
        "mostrar_unidades(magnitud)\n",
        "de = obtener_unidad(magnitud,\"de\")\n",
        "a= obtener_unidad(magnitud,\"a\")\n",
        "cantidad = obtener_cantidad()\n",
        "convertir(magnitud,de,a,cantidad)"
      ],
      "metadata": {
        "colab": {
          "base_uri": "https://localhost:8080/"
        },
        "id": "XI0xflgfkqMu",
        "outputId": "459a18df-acef-4171-c023-a7b2ff7906a3"
      },
      "execution_count": null,
      "outputs": [
        {
          "output_type": "stream",
          "name": "stdout",
          "text": [
            "Magnitudes disponibles:\n",
            "-Monedas\n",
            "-Longitud\n",
            "-Masa\n",
            "-Almacenamiento\n",
            "-Tiempo\n",
            "-Volúmen\n",
            "-Área\n",
            "Ingresa que quieres convertir: Área\n",
            "Unidades de Área:\n",
            "-Km cuadrados\n",
            "-Hectáreas\n",
            "-Metros cuadrados\n",
            "-Pies cuadrados\n",
            "-Yardas cuadradas\n",
            "-Acres\n",
            "-Millas cuadradas\n",
            "-Pulgadas cuadradas\n",
            "-Manzanas\n",
            "-Tareas\n",
            "Convertir de: Manzanas\n",
            "Convertir a: Metros cuadrados\n",
            "Cantidad:1\n",
            "1.0 Manzanas equivalen a 6988.960238407412 Metros cuadrados\n"
          ]
        }
      ]
    },
    {
      "cell_type": "markdown",
      "source": [
        "##Ejercicio 5"
      ],
      "metadata": {
        "id": "L56Hr7asjiW2"
      }
    },
    {
      "cell_type": "code",
      "source": [
        "conversor={\n",
        "\"Manzanas\":{\"Manzanas\":1,\"Bandejas\":1/4,\"Cajas\":1/150,\"Cargamentos\":1/20000},\n",
        "\"Huevos\":{\"Cargamentos\":1,\"Cajas\":400,\"Cartones\":2000,\"Docenas\":5000,\"Huevos\":60000}\n",
        "}\n",
        "def mostrar_magnitudes():\n",
        "    print(\"Magnitudes disponibles:\")\n",
        "    for i in conversor.keys():\n",
        "        print(f\"-{i}\")\n",
        "\n",
        "def mostrar_unidades(magnitud):\n",
        "    print(f\"Unidades de {magnitud}:\")\n",
        "    for u in conversor[magnitud].keys():\n",
        "        print(f\"-{u}\")\n",
        "\n",
        "\n",
        "def obtener_unidad(magnitud,tipo):\n",
        "    unidad = input(f\"Convertir {tipo}: \")\n",
        "    if unidad not in conversor[magnitud]:\n",
        "        print(f\"La unidad {unidad} no está disponible en {magnitud}\")\n",
        "        return obtener_unidad(magnitud,tipo)\n",
        "    return unidad\n",
        "\n",
        "def obtener_magnitud():\n",
        "    magnitud=input(\"Ingresa que quieres convertir: \")\n",
        "    if magnitud not in conversor.keys():\n",
        "        print(f\"La magnitud {magnitud} no está disponible\")\n",
        "        return obtener_magnitud()\n",
        "    return magnitud\n",
        "\n",
        "def obtener_cantidad():\n",
        "    try :\n",
        "        cantidad = float(input(\"Cantidad:\"))\n",
        "    except:\n",
        "        print(\"Debes ingresar un numero\")\n",
        "        return obtener_cantidad()\n",
        "    return cantidad\n",
        "\n",
        "def convertir(magnitud,de,a,cantidad):\n",
        "    resultado=cantidad*conversor[magnitud][a]//conversor[magnitud][de]\n",
        "    residuo=cantidad%(conversor[magnitud][de]/conversor[magnitud][a])\n",
        "    msg = f\"{cantidad} {de} equivalen a {resultado} {a}\"\n",
        "    if residuo >= 1:\n",
        "        msg += f\" y {residuo} {de}\"\n",
        "    print(msg)\n",
        "#----------------------------------------------------------------------------------\n",
        "\n",
        "mostrar_magnitudes()\n",
        "magnitud = obtener_magnitud()\n",
        "mostrar_unidades(magnitud)\n",
        "de = obtener_unidad(magnitud,\"de\")\n",
        "a= obtener_unidad(magnitud,\"a\")\n",
        "cantidad = obtener_cantidad()\n",
        "convertir(magnitud,de,a,cantidad)"
      ],
      "metadata": {
        "colab": {
          "base_uri": "https://localhost:8080/"
        },
        "id": "O8TxnbN6k-eU",
        "outputId": "aecddb04-31b5-4bb1-d2f6-35aa744b1d6f"
      },
      "execution_count": null,
      "outputs": [
        {
          "output_type": "stream",
          "name": "stdout",
          "text": [
            "Magnitudes disponibles:\n",
            "-Manzanas\n",
            "-Huevos\n",
            "Ingresa que quieres convertir: Huevos\n",
            "Unidades de Huevos:\n",
            "-Cargamentos\n",
            "-Cajas\n",
            "-Cartones\n",
            "-Docenas\n",
            "-Huevos\n",
            "Convertir de: Huevos\n",
            "Convertir a: Cartones\n",
            "Cantidad:92\n",
            "92.0 Huevos equivalen a 3.0 Cartones y 2.0 Huevos\n"
          ]
        }
      ]
    },
    {
      "cell_type": "markdown",
      "source": [
        "#PARCIAL"
      ],
      "metadata": {
        "id": "H6CK5KM3JJCg"
      }
    },
    {
      "cell_type": "markdown",
      "source": [
        "Ejercicio 1\n"
      ],
      "metadata": {
        "id": "XPz7TAo6bUBM"
      }
    },
    {
      "cell_type": "code",
      "source": [
        "tramos ={\n",
        "    \"desde\":[0.01,500.01,1000.01,2000.01,3000.01,6000.01,18000.01,30000.01,60000.01,100000.01,200000.01,300000.01,400000.01,500000.01,1000000.01],\n",
        "    \"hasta\":[500,1000,2000,3000,6000,18000,30000,60000,100000,200000,300000,400000,500000,1000000,99999999],\n",
        "    \"precio_fijo\":[0,3,3,3,2,2,2,1,0.8,0.7,0.6,0.45,0.4,0.3,0.18],\n",
        "    \"adicional\":[1.5,1.5,3,6,9,15,39,63,93,125,195,255,300,340,490]\n",
        "}\n",
        "\n",
        "def calcular_impuesto(actividad_economica):\n",
        "    for tramo in range(len(tramos[\"desde\"])):\n",
        "        if tramos[\"desde\"][tramo] <= actividad_economica <= tramos[\"hasta\"][tramo]:\n",
        "            diferencia = actividad_economica - tramos[\"desde\"][tramo]\n",
        "            impuesto = (diferencia / 1000) * tramos[\"precio_fijo\"][tramo] + tramos[\"adicional\"][tramo]\n",
        "            return round(impuesto, 2)\n",
        "    return 0\n",
        "\n",
        "def obtener_cantidad():\n",
        "    try :\n",
        "        cantidad = float(input(\"Ingrese la actividad económica: \"))\n",
        "    except:\n",
        "        print(\"Debes ingresar un numero\")\n",
        "        return obtener_cantidad()\n",
        "\n",
        "    if cantidad < 0:\n",
        "        print(\"La actividad económica no puede ser negativa\")\n",
        "        return obtener_cantidad()\n",
        "    return cantidad\n",
        "# Ejemplos de uso\n",
        "\n",
        "# Ejemplo 1: Actividad económica de $1,875.79\n",
        "actividad = obtener_cantidad()\n",
        "impuesto = calcular_impuesto(actividad)\n",
        "print(f\"El impuesto para una actividad económica de {actividad} es: ${impuesto}\")"
      ],
      "metadata": {
        "colab": {
          "base_uri": "https://localhost:8080/"
        },
        "id": "XcWi1XhsbXKM",
        "outputId": "d7f6b77a-b922-4afc-b603-ed017169aeb4"
      },
      "execution_count": null,
      "outputs": [
        {
          "output_type": "stream",
          "name": "stdout",
          "text": [
            "Ingrese la actividad económica: -3.14\n",
            "Ingrese la actividad económica: 20000\n",
            "El impuesto para una actividad económica de 20000.0 es: $43.0\n"
          ]
        }
      ]
    },
    {
      "cell_type": "markdown",
      "source": [
        "Ejercicio 2"
      ],
      "metadata": {
        "id": "ajQdw33EY236"
      }
    },
    {
      "cell_type": "code",
      "source": [
        "conversor={\n",
        "\"Área\":{\"Hectáreas\":100,\"Metros cuadrados\":10**6,\"Pies cuadrados\":10.764*10**6,\"Yardas cuadradas\":1.196*10**6,\"Manzanas\":143.0828,\"Tareas\":143.0828*16,\"Varas cuadradas\":143.0828*10000},\n",
        "}\n",
        "\n",
        "def mostrar_unidades(magnitud):\n",
        "    print(f\"Unidades de {magnitud}:\")\n",
        "    for u in conversor[magnitud].keys():\n",
        "        print(f\"-{u}\")\n",
        "\n",
        "\n",
        "def obtener_unidad(magnitud,tipo):\n",
        "    unidad = input(f\"Convertir {tipo}: \")\n",
        "    if unidad not in conversor[magnitud]:\n",
        "        print(f\"La unidad {unidad} no está disponible en {magnitud}\")\n",
        "        return obtener_unidad(magnitud,tipo)\n",
        "    return unidad\n",
        "\n",
        "\n",
        "def obtener_cantidad():\n",
        "    try :\n",
        "        cantidad = float(input(\"Cantidad:\"))\n",
        "    except:\n",
        "        print(\"Debes ingresar un numero\")\n",
        "        return obtener_cantidad()\n",
        "    return cantidad\n",
        "\n",
        "def convertir(magnitud,de,a,cantidad):\n",
        "    res=cantidad*conversor[magnitud][a]/conversor[magnitud][de]\n",
        "    print(f\"{cantidad} {de} equivalen a {res} {a}\")\n",
        "#------------------------------------------------------------------------------\n",
        "\n",
        "\n",
        "mostrar_unidades(\"Área\")\n",
        "de = obtener_unidad(\"Área\",\"de\")\n",
        "a= obtener_unidad(\"Área\",\"a\")\n",
        "cantidad = obtener_cantidad()\n",
        "convertir(\"Área\",de,a,cantidad)"
      ],
      "metadata": {
        "colab": {
          "base_uri": "https://localhost:8080/"
        },
        "id": "b3GwLI-zY4w9",
        "outputId": "0762b8dd-69f8-4a9d-a529-8ab88b5f69d0"
      },
      "execution_count": null,
      "outputs": [
        {
          "output_type": "stream",
          "name": "stdout",
          "text": [
            "Unidades de Área:\n",
            "-Hectáreas\n",
            "-Metros cuadrados\n",
            "-Pies cuadrados\n",
            "-Yardas cuadradas\n",
            "-Manzanas\n",
            "-Tareas\n",
            "-Varas cuadradas\n",
            "Convertir de: Metros cuadrados\n",
            "Convertir a: Manzanas\n",
            "Cantidad:1\n",
            "1.0 Metros cuadrados equivalen a 0.0001430828 Manzanas\n"
          ]
        }
      ]
    },
    {
      "cell_type": "markdown",
      "source": [
        "Ejercicio 3"
      ],
      "metadata": {
        "id": "QFGQUey0JM3D"
      }
    },
    {
      "cell_type": "code",
      "source": [
        "import math\n",
        "billetes= {\n",
        "    20:\"billetes de a 20\",\n",
        "    10:\"billetes de a 10\",\n",
        "    5:\"billetes de a 5\",\n",
        "    1:\"billetes de a 1\",\n",
        "    }\n",
        "monedas = {\n",
        "    25:\"monedas de 25 ctvs\",\n",
        "    10:\"monedas de 10 ctvs\",\n",
        "    5:\"monedas de 5 ctvs\",\n",
        "    1:\"monedas de 1 ctv\",\n",
        "}\n",
        "def obtener_dinero():\n",
        "    try:\n",
        "        dinero = float(input(\"Ingresa la cantidad a retirar: \"))\n",
        "    except:\n",
        "        print(\"Debes ingresar un numero\")\n",
        "        return obtener_dinero()\n",
        "    if dinero < 0:\n",
        "        print(\"El dinero no puede ser negativo\")\n",
        "        return obtener_dinero()\n",
        "    return dinero\n",
        "\n",
        "def calcular_cantidades(dinero):\n",
        "    valores = list(billetes.keys())\n",
        "    valores.sort(reverse=True)\n",
        "    cantidades_por_billete = {}\n",
        "    dinero_restante = dinero\n",
        "    for i in valores:\n",
        "        cantidades_por_billete[billetes[i]] = round(dinero//i)\n",
        "        dinero = dinero % i\n",
        "    dinero = dinero*100\n",
        "    valores = list(monedas.keys())\n",
        "    valores.sort(reverse=True)\n",
        "    for i in valores:\n",
        "        if i ==1:\n",
        "            cantidades_por_billete[monedas[i]] = round(dinero)\n",
        "        else:\n",
        "            cantidades_por_billete[monedas[i]] = round(dinero//i)\n",
        "            dinero = dinero % i\n",
        "    return cantidades_por_billete\n",
        "\n",
        "def dar_billetes(cantidades):\n",
        "    print(\"Los billetes y monedas devueltos son los siguientes: \")\n",
        "    for i in cantidades:\n",
        "        if cantidades[i] > 0:\n",
        "            print(f\"{cantidades[i]} {i}\")\n",
        "\n",
        "\n",
        "dinero = obtener_dinero()\n",
        "\n",
        "cantidades = calcular_cantidades(dinero)\n",
        "\n",
        "dar_billetes(cantidades)\n",
        "\n"
      ],
      "metadata": {
        "colab": {
          "base_uri": "https://localhost:8080/"
        },
        "id": "l7AXpHzZJa1L",
        "outputId": "d7231674-613e-4c5e-9b0c-5d1356f46b01"
      },
      "execution_count": null,
      "outputs": [
        {
          "output_type": "stream",
          "name": "stdout",
          "text": [
            "Ingresa la cantidad a retirar: 199.89\n",
            "9 billetes de a 20\n",
            "1 billetes de a 10\n",
            "1 billetes de a 5\n",
            "4 billetes de a 1\n",
            "3 monedas de 25 ctvs\n",
            "1 monedas de 10 ctvs\n",
            "4 monedas de 1 ctv\n"
          ]
        }
      ]
    }
  ],
  "metadata": {
    "colab": {
      "name": "Te damos la bienvenida a Colaboratory",
      "provenance": [],
      "include_colab_link": true
    },
    "kernelspec": {
      "display_name": "Python 3",
      "name": "python3"
    }
  },
  "nbformat": 4,
  "nbformat_minor": 0
}