{
  "nbformat": 4,
  "nbformat_minor": 0,
  "metadata": {
    "colab": {
      "provenance": [],
      "authorship_tag": "ABX9TyPJCBIeL4ZO1CT7mqR06/go",
      "include_colab_link": true
    },
    "kernelspec": {
      "name": "python3",
      "display_name": "Python 3"
    },
    "language_info": {
      "name": "python"
    }
  },
  "cells": [
    {
      "cell_type": "markdown",
      "metadata": {
        "id": "view-in-github",
        "colab_type": "text"
      },
      "source": [
        "<a href=\"https://colab.research.google.com/github/GlaMayBarPin/progralll-2024/blob/main/fundamentos_de_python.ipynb\" target=\"_parent\"><img src=\"https://colab.research.google.com/assets/colab-badge.svg\" alt=\"Open In Colab\"/></a>"
      ]
    },
    {
      "cell_type": "code",
      "execution_count": null,
      "metadata": {
        "colab": {
          "base_uri": "https://localhost:8080/"
        },
        "id": "AfxrD3LV4eLv",
        "outputId": "93038604-950d-44e6-b7a6-e0e0b7d9e2f4"
      },
      "outputs": [
        {
          "output_type": "stream",
          "name": "stdout",
          "text": [
            "Hola Mundo\n"
          ]
        }
      ],
      "source": [
        "print(\"Hola Mundo\")\n",
        "nombre = \"Gladys Mayrena\"\n",
        "\n",
        "print(\"Hola\", nombre, \"inicial:\",nombre [0], nombre[5])\n"
      ]
    },
    {
      "cell_type": "markdown",
      "source": [
        "EJERCICIO, crear un programa en python que sume dos numeros"
      ],
      "metadata": {
        "id": "GryJeA-29cJw"
      }
    },
    {
      "cell_type": "code",
      "source": [
        "num1 = 5\n",
        "num2 = 9.5\n",
        "resp = num1 + num2\n",
        "print(\"la suma es:\", resp)"
      ],
      "metadata": {
        "id": "qox2oOte9ab0"
      },
      "execution_count": null,
      "outputs": []
    },
    {
      "cell_type": "markdown",
      "source": [
        "EJERCICIO, crear un programa en python que sume dos numeros introducidos por el usuario"
      ],
      "metadata": {
        "id": "F6KmxE7z_Mhr"
      }
    },
    {
      "cell_type": "code",
      "source": [
        "print(\"num1\")\n",
        "num1 = int(input())\n",
        "\n",
        "print(\"num2\")\n",
        "num2 = float(input())\n",
        "\n",
        "resp = num1 + num2\n",
        "print(\"la suma es:\", resp)"
      ],
      "metadata": {
        "id": "9haPI9B7_V6M"
      },
      "execution_count": null,
      "outputs": []
    },
    {
      "cell_type": "code",
      "source": [
        "#Tipos de datos\n",
        "nombre = \"Gladys Mayrena\"\n",
        "print(nombre[0:4], nombre[:4], nombre[-1:], nombre [5:len(nombre)])\n",
        "\n",
        "estado = True\n",
        "print(estado)\n",
        "\n",
        "print(type(nombre), type(num1), type(num2), type(estado) )"
      ],
      "metadata": {
        "colab": {
          "base_uri": "https://localhost:8080/"
        },
        "id": "i9dr73vpB-JG",
        "outputId": "961fb950-b928-4605-80e7-7809e60e2281"
      },
      "execution_count": null,
      "outputs": [
        {
          "output_type": "stream",
          "name": "stdout",
          "text": [
            "Glad Glad a s Mayrena\n",
            "True\n",
            "<class 'str'> <class 'int'> <class 'float'> <class 'bool'>\n"
          ]
        }
      ]
    },
    {
      "cell_type": "markdown",
      "source": [
        "EJERCICIO,crea un programa en python que lea un numero y determine si es par o impar"
      ],
      "metadata": {
        "id": "UO92rhOZEe5_"
      }
    },
    {
      "cell_type": "code",
      "source": [
        "num = int(input(\"ingrase un mumero:\"))\n",
        "if num % 2 == 0:\n",
        "  print(\"el numero es par\", num)\n",
        "else:\n",
        "  print(\"el numero es impar\")"
      ],
      "metadata": {
        "colab": {
          "base_uri": "https://localhost:8080/"
        },
        "id": "EXo-LcWuC9Dr",
        "outputId": "0bb88f35-47db-492c-d019-e6aafa8865f1"
      },
      "execution_count": null,
      "outputs": [
        {
          "output_type": "stream",
          "name": "stdout",
          "text": [
            "ingrase un mumero:5\n",
            "el numero es impar\n"
          ]
        }
      ]
    },
    {
      "cell_type": "markdown",
      "source": [
        "EJERCICIO: Uso de las funciones de usuario, con la suma de dos numeros."
      ],
      "metadata": {
        "id": "UP7Y0nIFmqEY"
      }
    },
    {
      "cell_type": "code",
      "source": [
        "def suma(num1, num2):\n",
        "  return num1 + num2\n",
        "\n",
        "num1 = float(input(\"Num 1: \"))\n",
        "num2 = float(input(\"Num 2: \"))\n",
        "\n",
        "resp = suma(num1, num2)\n",
        "print (\"La suma es: \", resp)"
      ],
      "metadata": {
        "id": "gzroSsFWb--u"
      },
      "execution_count": null,
      "outputs": []
    },
    {
      "cell_type": "code",
      "source": [
        "def convertir_cf(c):\n",
        "  return c*1.8 + 32\n",
        "\n",
        "\n",
        "c = float(input(\"Celsius: \"))\n",
        "print(\"F: \", convertir_cf(c))"
      ],
      "metadata": {
        "id": "2t-StMttc8gV"
      },
      "execution_count": null,
      "outputs": []
    },
    {
      "cell_type": "markdown",
      "source": [
        "EJERCICIO: Determina si un numero es par o impar"
      ],
      "metadata": {
        "id": "0Skr9RGYmru2"
      }
    },
    {
      "cell_type": "code",
      "source": [
        "def parImpar(num):\n",
        "  if(num%2==0):\n",
        "    return \"par\"\n",
        "  return \"impar\"\n",
        "\n",
        "\n",
        "num = int(input(\"Num: \"))\n",
        "print(\"EL numero \", num, \" es: \", parImpar(num))"
      ],
      "metadata": {
        "id": "AL7oVaNhmGKy"
      },
      "execution_count": null,
      "outputs": []
    },
    {
      "cell_type": "markdown",
      "source": [
        "EJERCICIO: Calcular el sueldo de un trabajador."
      ],
      "metadata": {
        "id": "0WFXulXnmjY2"
      }
    },
    {
      "cell_type": "code",
      "source": [
        "\n",
        "def sueldo(numHrs, valorXHrs):\n",
        "  sueldo = numHrs * valorXHrs * 30 # 10*1.5*30 = 450\n",
        "  if(numHrs>8):\n",
        "    sueldo = sueldo + (numHrs-8) * valorXHrs * 30 # 2*1.5*30 = 90\n",
        "  return sueldo\n",
        "\n",
        "\n",
        "numHrs = int(input(\"Horas: \"))\n",
        "valorXHrs = float(input(\"Valor: \"))\n",
        "\n",
        "print(\"Sueldo: \", sueldo(numHrs, valorXHrs))"
      ],
      "metadata": {
        "id": "HGrRZ0VnmKWw"
      },
      "execution_count": null,
      "outputs": []
    },
    {
      "cell_type": "markdown",
      "source": [
        "TAREA (MIERCOLES):\n",
        "\n",
        "1. Convertir grados Farenheits a Celsius\n"
      ],
      "metadata": {
        "id": "-oT4PbVfzzW_"
      }
    },
    {
      "cell_type": "code",
      "source": [
        "def fahrenheit_a_celsius(f):\n",
        "    return (f - 32) / 1.8\n",
        "\n",
        "def celsius_a_fahrenheit(c):\n",
        "    return (c * 1.8) + 32\n",
        "\n",
        "f = float(input(\"Ingresa los grados Fahrenheit: \"))\n",
        "c = fahrenheit_a_celsius(f)\n",
        "print(f\"Los {f} grados Fahrenheit son {c} grados Celsius\")\n",
        "\n",
        "c = float(input(\"Ingresa los grados Celsius: \"))\n",
        "f = celsius_a_fahrenheit(c)\n",
        "print(f\"Los {c} grados Celsius son {f} grados Fahrenheit\")\n"
      ],
      "metadata": {
        "id": "Khrtcamoz38N",
        "outputId": "3f6078c0-8704-4285-ffc1-5059c1fb4a6c",
        "colab": {
          "base_uri": "https://localhost:8080/"
        }
      },
      "execution_count": 18,
      "outputs": [
        {
          "output_type": "stream",
          "name": "stdout",
          "text": [
            "Ingresa los grados Fahrenheit: 1\n",
            "Los 1.0 grados Fahrenheit son -17.22222222222222 grados Celsius\n",
            "Ingresa los grados Celsius: 1\n",
            "Los 1.0 grados Celsius son 33.8 grados Fahrenheit\n"
          ]
        }
      ]
    },
    {
      "cell_type": "markdown",
      "source": [
        "2. Convertir grados [Celsius y Farenheit] a kelvin"
      ],
      "metadata": {
        "id": "I3tudin-3Qej"
      }
    },
    {
      "cell_type": "code",
      "source": [
        "def celsius_a_kelvin(celsius):\n",
        "    return celsius + 273.15\n",
        "\n",
        "def fahrenheit_a_kelvin(fahrenheit):\n",
        "    return (fahrenheit + 459.67) * 5 / 9\n",
        "\n",
        "temperatura_celsius = 1\n",
        "temperatura_fahrenheit = 1\n",
        "\n",
        "print(f\"{temperatura_celsius} °C en Kelvin: {celsius_a_kelvin(temperatura_celsius)} K\")\n",
        "print(f\"{temperatura_fahrenheit} °F en Kelvin: {fahrenheit_a_kelvin(temperatura_fahrenheit)} K\")\n"
      ],
      "metadata": {
        "id": "ViXPpUmg3YBe",
        "outputId": "0a57448f-a9bc-4fd9-9850-b5e7cacc3620",
        "colab": {
          "base_uri": "https://localhost:8080/"
        }
      },
      "execution_count": 20,
      "outputs": [
        {
          "output_type": "stream",
          "name": "stdout",
          "text": [
            "1 °C en Kelvin: 274.15 K\n",
            "1 °F en Kelvin: 255.92777777777778 K\n"
          ]
        }
      ]
    },
    {
      "cell_type": "markdown",
      "source": [
        "EJERCICIO: elever un numero al cuadrado."
      ],
      "metadata": {
        "id": "Fz2wI04c56Xu"
      }
    },
    {
      "cell_type": "code",
      "source": [
        "def elevarCuadrado(base=0, exponente=2):\n",
        "  return base**exponente"
      ],
      "metadata": {
        "id": "ehzt_YtV6KDF"
      },
      "execution_count": 12,
      "outputs": []
    },
    {
      "cell_type": "code",
      "source": [
        "num = int (input (\"num:\"))\n",
        "print(\"Cuadrado:\", elevarCuadrado(num, 3))"
      ],
      "metadata": {
        "id": "JVe8iXo06hWX",
        "outputId": "e4ca0373-c011-4dfe-87ae-06543631e650",
        "colab": {
          "base_uri": "https://localhost:8080/"
        }
      },
      "execution_count": 13,
      "outputs": [
        {
          "output_type": "stream",
          "name": "stdout",
          "text": [
            "num:3\n",
            "Cuadrado: 27\n"
          ]
        }
      ]
    },
    {
      "cell_type": "markdown",
      "source": [
        "USANDO FUNCIONES LAMBDA"
      ],
      "metadata": {
        "id": "1QvX2nwK8DTl"
      }
    },
    {
      "cell_type": "code",
      "source": [
        "elevarCuadradoLambda = lambda base, exponente: base**exponente"
      ],
      "metadata": {
        "id": "kvMDMdx18KGB"
      },
      "execution_count": 5,
      "outputs": []
    },
    {
      "cell_type": "code",
      "source": [
        "valor = int(input(\"Num: \"))\n",
        "print(\"Cuadrado:\", elevarCuadradoLambda(valor, 2))"
      ],
      "metadata": {
        "id": "v5EWVbLa85Ah",
        "outputId": "e8d37938-8a38-432a-9ea6-3f324454a6be",
        "colab": {
          "base_uri": "https://localhost:8080/"
        }
      },
      "execution_count": 6,
      "outputs": [
        {
          "output_type": "stream",
          "name": "stdout",
          "text": [
            "Num: 3\n",
            "Cuadrado: 9\n"
          ]
        }
      ]
    },
    {
      "cell_type": "code",
      "source": [
        "serie = [5,4,3,2,6,7]\n",
        "resp = map(lambda x: x**2, serie)\n",
        "print(list(resp))\n",
        "\n",
        "resp2 = map(elevarCuadrado, serie)\n",
        "print(list(resp2))"
      ],
      "metadata": {
        "id": "hnsBwgzL_vvF",
        "outputId": "c8a6679d-d38d-4bb9-a3bc-be8cf8c56f83",
        "colab": {
          "base_uri": "https://localhost:8080/"
        }
      },
      "execution_count": 10,
      "outputs": [
        {
          "output_type": "stream",
          "name": "stdout",
          "text": [
            "[25, 16, 9, 4, 36, 49]\n",
            "[25, 16, 9, 4, 36, 49]\n"
          ]
        }
      ]
    },
    {
      "cell_type": "markdown",
      "source": [
        "Ejercicio: obtener la raiz cuadrado de una serie de numeros fijos"
      ],
      "metadata": {
        "id": "9jacefXpCw7D"
      }
    },
    {
      "cell_type": "code",
      "source": [
        "def raizCuadrada(num):\n",
        "  return num**0.5"
      ],
      "metadata": {
        "id": "D9vn21xDDD_G"
      },
      "execution_count": 14,
      "outputs": []
    },
    {
      "cell_type": "code",
      "source": [
        "serie = [5,4,3,2,6,7]\n",
        "resp = map(raizCuadrada, serie)\n",
        "print(list(resp))"
      ],
      "metadata": {
        "id": "ILyhL0hSDacA",
        "outputId": "e7dff034-4501-4114-e899-da865d548f56",
        "colab": {
          "base_uri": "https://localhost:8080/"
        }
      },
      "execution_count": 15,
      "outputs": [
        {
          "output_type": "stream",
          "name": "stdout",
          "text": [
            "[2.23606797749979, 2.0, 1.7320508075688772, 1.4142135623730951, 2.449489742783178, 2.6457513110645907]\n"
          ]
        }
      ]
    }
  ]
}