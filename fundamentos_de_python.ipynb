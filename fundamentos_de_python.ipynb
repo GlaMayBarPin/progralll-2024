{
  "nbformat": 4,
  "nbformat_minor": 0,
  "metadata": {
    "colab": {
      "provenance": [],
      "authorship_tag": "ABX9TyP96oX3bctJJ7Q3kvHOCv9V",
      "include_colab_link": true
    },
    "kernelspec": {
      "name": "python3",
      "display_name": "Python 3"
    },
    "language_info": {
      "name": "python"
    }
  },
  "cells": [
    {
      "cell_type": "markdown",
      "metadata": {
        "id": "view-in-github",
        "colab_type": "text"
      },
      "source": [
        "<a href=\"https://colab.research.google.com/github/GlaMayBarPin/progralll-2024/blob/main/fundamentos_de_python.ipynb\" target=\"_parent\"><img src=\"https://colab.research.google.com/assets/colab-badge.svg\" alt=\"Open In Colab\"/></a>"
      ]
    },
    {
      "cell_type": "code",
      "execution_count": 1,
      "metadata": {
        "colab": {
          "base_uri": "https://localhost:8080/"
        },
        "id": "AfxrD3LV4eLv",
        "outputId": "93038604-950d-44e6-b7a6-e0e0b7d9e2f4"
      },
      "outputs": [
        {
          "output_type": "stream",
          "name": "stdout",
          "text": [
            "Hola Mundo\n"
          ]
        }
      ],
      "source": [
        "print(\"Hola Mundo\")\n",
        "nombre = \"Gladys Mayrena\"\n",
        "\n",
        "print(\"Hola\", nombre, \"inicial:\",nombre [0], nombre[5])\n"
      ]
    },
    {
      "cell_type": "markdown",
      "source": [
        "EJERCICIO, crear un programa en python que sume dos numeros"
      ],
      "metadata": {
        "id": "GryJeA-29cJw"
      }
    },
    {
      "cell_type": "code",
      "source": [
        "num1 = 5\n",
        "num2 = 9.5\n",
        "resp = num1 + num2\n",
        "print(\"la suma es:\", resp)"
      ],
      "metadata": {
        "id": "qox2oOte9ab0"
      },
      "execution_count": null,
      "outputs": []
    },
    {
      "cell_type": "markdown",
      "source": [
        "EJERCICIO, crear un programa en python que sume dos numeros introducidos por el usuario"
      ],
      "metadata": {
        "id": "F6KmxE7z_Mhr"
      }
    },
    {
      "cell_type": "code",
      "source": [
        "print(\"num1\")\n",
        "num1 = int(input())\n",
        "\n",
        "print(\"num2\")\n",
        "num2 = float(input())\n",
        "\n",
        "resp = num1 + num2\n",
        "print(\"la suma es:\", resp)"
      ],
      "metadata": {
        "id": "9haPI9B7_V6M"
      },
      "execution_count": null,
      "outputs": []
    },
    {
      "cell_type": "code",
      "source": [
        "#Tipos de datos\n",
        "nombre = \"Gladys Mayrena\"\n",
        "print(nombre[0:4], nombre[:4], nombre[-1:], nombre [5:len(nombre)])\n",
        "\n",
        "estado = True\n",
        "print(estado)\n",
        "\n",
        "print(type(nombre), type(num1), type(num2), type(estado) )"
      ],
      "metadata": {
        "colab": {
          "base_uri": "https://localhost:8080/"
        },
        "id": "i9dr73vpB-JG",
        "outputId": "961fb950-b928-4605-80e7-7809e60e2281"
      },
      "execution_count": 25,
      "outputs": [
        {
          "output_type": "stream",
          "name": "stdout",
          "text": [
            "Glad Glad a s Mayrena\n",
            "True\n",
            "<class 'str'> <class 'int'> <class 'float'> <class 'bool'>\n"
          ]
        }
      ]
    },
    {
      "cell_type": "markdown",
      "source": [
        "EJERCICIO,crea un programa en python que lea un numero y determine si es par o impar"
      ],
      "metadata": {
        "id": "UO92rhOZEe5_"
      }
    },
    {
      "cell_type": "code",
      "source": [
        "num = int(input(\"ingrase un mumero:\"))\n",
        "if num % 2 == 0:\n",
        "  print(\"el numero es par\", num)\n",
        "else:\n",
        "  print(\"el numero es impar\")"
      ],
      "metadata": {
        "colab": {
          "base_uri": "https://localhost:8080/"
        },
        "id": "EXo-LcWuC9Dr",
        "outputId": "0bb88f35-47db-492c-d019-e6aafa8865f1"
      },
      "execution_count": 23,
      "outputs": [
        {
          "output_type": "stream",
          "name": "stdout",
          "text": [
            "ingrase un mumero:5\n",
            "el numero es impar\n"
          ]
        }
      ]
    }
  ]
}