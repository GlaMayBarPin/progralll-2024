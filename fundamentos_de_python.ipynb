{
  "nbformat": 4,
  "nbformat_minor": 0,
  "metadata": {
    "colab": {
      "provenance": [],
      "authorship_tag": "ABX9TyPwI9I+cWiZ+6Jd19JnQbps",
      "include_colab_link": true
    },
    "kernelspec": {
      "name": "python3",
      "display_name": "Python 3"
    },
    "language_info": {
      "name": "python"
    }
  },
  "cells": [
    {
      "cell_type": "markdown",
      "metadata": {
        "id": "view-in-github",
        "colab_type": "text"
      },
      "source": [
        "<a href=\"https://colab.research.google.com/github/GlaMayBarPin/progralll-2024/blob/main/fundamentos_de_python.ipynb\" target=\"_parent\"><img src=\"https://colab.research.google.com/assets/colab-badge.svg\" alt=\"Open In Colab\"/></a>"
      ]
    },
    {
      "cell_type": "code",
      "execution_count": null,
      "metadata": {
        "colab": {
          "base_uri": "https://localhost:8080/"
        },
        "id": "AfxrD3LV4eLv",
        "outputId": "93038604-950d-44e6-b7a6-e0e0b7d9e2f4"
      },
      "outputs": [
        {
          "output_type": "stream",
          "name": "stdout",
          "text": [
            "Hola Mundo\n"
          ]
        }
      ],
      "source": [
        "print(\"Hola Mundo\")\n",
        "nombre = \"Gladys Mayrena\"\n",
        "\n",
        "print(\"Hola\", nombre, \"inicial:\",nombre [0], nombre[5])\n"
      ]
    },
    {
      "cell_type": "markdown",
      "source": [
        "EJERCICIO, crear un programa en python que sume dos numeros"
      ],
      "metadata": {
        "id": "GryJeA-29cJw"
      }
    },
    {
      "cell_type": "code",
      "source": [
        "num1 = 5\n",
        "num2 = 9.5\n",
        "resp = num1 + num2\n",
        "print(\"la suma es:\", resp)"
      ],
      "metadata": {
        "id": "qox2oOte9ab0"
      },
      "execution_count": null,
      "outputs": []
    },
    {
      "cell_type": "markdown",
      "source": [
        "EJERCICIO, crear un programa en python que sume dos numeros introducidos por el usuario"
      ],
      "metadata": {
        "id": "F6KmxE7z_Mhr"
      }
    },
    {
      "cell_type": "code",
      "source": [
        "print(\"num1\")\n",
        "num1 = int(input())\n",
        "\n",
        "print(\"num2\")\n",
        "num2 = float(input())\n",
        "\n",
        "resp = num1 + num2\n",
        "print(\"la suma es:\", resp)"
      ],
      "metadata": {
        "id": "9haPI9B7_V6M"
      },
      "execution_count": null,
      "outputs": []
    },
    {
      "cell_type": "code",
      "source": [
        "#Tipos de datos\n",
        "nombre = \"Gladys Mayrena\"\n",
        "print(nombre[0:4], nombre[:4], nombre[-1:], nombre [5:len(nombre)])\n",
        "\n",
        "estado = True\n",
        "print(estado)\n",
        "\n",
        "print(type(nombre), type(num1), type(num2), type(estado) )"
      ],
      "metadata": {
        "colab": {
          "base_uri": "https://localhost:8080/"
        },
        "id": "i9dr73vpB-JG",
        "outputId": "961fb950-b928-4605-80e7-7809e60e2281"
      },
      "execution_count": null,
      "outputs": [
        {
          "output_type": "stream",
          "name": "stdout",
          "text": [
            "Glad Glad a s Mayrena\n",
            "True\n",
            "<class 'str'> <class 'int'> <class 'float'> <class 'bool'>\n"
          ]
        }
      ]
    },
    {
      "cell_type": "markdown",
      "source": [
        "EJERCICIO,crea un programa en python que lea un numero y determine si es par o impar"
      ],
      "metadata": {
        "id": "UO92rhOZEe5_"
      }
    },
    {
      "cell_type": "code",
      "source": [
        "num = int(input(\"ingrase un mumero:\"))\n",
        "if num % 2 == 0:\n",
        "  print(\"el numero es par\", num)\n",
        "else:\n",
        "  print(\"el numero es impar\")"
      ],
      "metadata": {
        "colab": {
          "base_uri": "https://localhost:8080/"
        },
        "id": "EXo-LcWuC9Dr",
        "outputId": "0bb88f35-47db-492c-d019-e6aafa8865f1"
      },
      "execution_count": null,
      "outputs": [
        {
          "output_type": "stream",
          "name": "stdout",
          "text": [
            "ingrase un mumero:5\n",
            "el numero es impar\n"
          ]
        }
      ]
    },
    {
      "cell_type": "markdown",
      "source": [
        "EJERCICIO: Uso de las funciones de usuario, con la suma de dos numeros."
      ],
      "metadata": {
        "id": "UP7Y0nIFmqEY"
      }
    },
    {
      "cell_type": "code",
      "source": [
        "def suma(num1, num2):\n",
        "  return num1 + num2\n",
        "\n",
        "num1 = float(input(\"Num 1: \"))\n",
        "num2 = float(input(\"Num 2: \"))\n",
        "\n",
        "resp = suma(num1, num2)\n",
        "print (\"La suma es: \", resp)"
      ],
      "metadata": {
        "id": "gzroSsFWb--u"
      },
      "execution_count": null,
      "outputs": []
    },
    {
      "cell_type": "code",
      "source": [
        "def convertir_cf(c):\n",
        "  return c*1.8 + 32\n",
        "\n",
        "\n",
        "c = float(input(\"Celsius: \"))\n",
        "print(\"F: \", convertir_cf(c))"
      ],
      "metadata": {
        "id": "2t-StMttc8gV"
      },
      "execution_count": null,
      "outputs": []
    },
    {
      "cell_type": "markdown",
      "source": [
        "EJERCICIO: Determina si un numero es par o impar"
      ],
      "metadata": {
        "id": "0Skr9RGYmru2"
      }
    },
    {
      "cell_type": "code",
      "source": [
        "def parImpar(num):\n",
        "  if(num%2==0):\n",
        "    return \"par\"\n",
        "  return \"impar\"\n",
        "\n",
        "\n",
        "num = int(input(\"Num: \"))\n",
        "print(\"EL numero \", num, \" es: \", parImpar(num))"
      ],
      "metadata": {
        "id": "AL7oVaNhmGKy"
      },
      "execution_count": null,
      "outputs": []
    },
    {
      "cell_type": "markdown",
      "source": [
        "EJERCICIO: Calcular el sueldo de un trabajador."
      ],
      "metadata": {
        "id": "0WFXulXnmjY2"
      }
    },
    {
      "cell_type": "code",
      "source": [
        "\n",
        "def sueldo(numHrs, valorXHrs):\n",
        "  sueldo = numHrs * valorXHrs * 30 # 10*1.5*30 = 450\n",
        "  if(numHrs>8):\n",
        "    sueldo = sueldo + (numHrs-8) * valorXHrs * 30 # 2*1.5*30 = 90\n",
        "  return sueldo\n",
        "\n",
        "\n",
        "numHrs = int(input(\"Horas: \"))\n",
        "valorXHrs = float(input(\"Valor: \"))\n",
        "\n",
        "print(\"Sueldo: \", sueldo(numHrs, valorXHrs))"
      ],
      "metadata": {
        "id": "HGrRZ0VnmKWw"
      },
      "execution_count": null,
      "outputs": []
    },
    {
      "cell_type": "markdown",
      "source": [
        "TAREA (MIERCOLES):\n",
        "\n",
        "1. Convertir grados Farenheits a Celsius\n"
      ],
      "metadata": {
        "id": "-oT4PbVfzzW_"
      }
    },
    {
      "cell_type": "code",
      "source": [
        "def fahrenheit_a_celsius(f):\n",
        "    return (f - 32) / 1.8\n",
        "\n",
        "def celsius_a_fahrenheit(c):\n",
        "    return (c * 1.8) + 32\n",
        "\n",
        "f = float(input(\"Ingresa los grados Fahrenheit: \"))\n",
        "c = fahrenheit_a_celsius(f)\n",
        "print(f\"Los {f} grados Fahrenheit son {c} grados Celsius\")\n",
        "\n",
        "c = float(input(\"Ingresa los grados Celsius: \"))\n",
        "f = celsius_a_fahrenheit(c)\n",
        "print(f\"Los {c} grados Celsius son {f} grados Fahrenheit\")\n"
      ],
      "metadata": {
        "id": "Khrtcamoz38N",
        "outputId": "3f6078c0-8704-4285-ffc1-5059c1fb4a6c",
        "colab": {
          "base_uri": "https://localhost:8080/"
        }
      },
      "execution_count": null,
      "outputs": [
        {
          "output_type": "stream",
          "name": "stdout",
          "text": [
            "Ingresa los grados Fahrenheit: 1\n",
            "Los 1.0 grados Fahrenheit son -17.22222222222222 grados Celsius\n",
            "Ingresa los grados Celsius: 1\n",
            "Los 1.0 grados Celsius son 33.8 grados Fahrenheit\n"
          ]
        }
      ]
    },
    {
      "cell_type": "markdown",
      "source": [
        "2. Convertir grados [Celsius y Farenheit] a kelvin"
      ],
      "metadata": {
        "id": "I3tudin-3Qej"
      }
    },
    {
      "cell_type": "code",
      "source": [
        "def celsius_a_kelvin(celsius):\n",
        "    return celsius + 273.15\n",
        "\n",
        "def fahrenheit_a_kelvin(fahrenheit):\n",
        "    return (fahrenheit + 459.67) * 5 / 9\n",
        "\n",
        "temperatura_celsius = 1\n",
        "temperatura_fahrenheit = 1\n",
        "\n",
        "print(f\"{temperatura_celsius} °C en Kelvin: {celsius_a_kelvin(temperatura_celsius)} K\")\n",
        "print(f\"{temperatura_fahrenheit} °F en Kelvin: {fahrenheit_a_kelvin(temperatura_fahrenheit)} K\")\n"
      ],
      "metadata": {
        "id": "ViXPpUmg3YBe",
        "outputId": "0a57448f-a9bc-4fd9-9850-b5e7cacc3620",
        "colab": {
          "base_uri": "https://localhost:8080/"
        }
      },
      "execution_count": null,
      "outputs": [
        {
          "output_type": "stream",
          "name": "stdout",
          "text": [
            "1 °C en Kelvin: 274.15 K\n",
            "1 °F en Kelvin: 255.92777777777778 K\n"
          ]
        }
      ]
    },
    {
      "cell_type": "markdown",
      "source": [
        "EJERCICIO: elever un numero al cuadrado."
      ],
      "metadata": {
        "id": "Fz2wI04c56Xu"
      }
    },
    {
      "cell_type": "code",
      "source": [
        "def elevarCuadrado(base=0, exponente=2):\n",
        "  return base**exponente"
      ],
      "metadata": {
        "id": "ehzt_YtV6KDF"
      },
      "execution_count": null,
      "outputs": []
    },
    {
      "cell_type": "code",
      "source": [
        "num = int (input (\"num:\"))\n",
        "print(\"Cuadrado:\", elevarCuadrado(num, 3))"
      ],
      "metadata": {
        "id": "JVe8iXo06hWX",
        "outputId": "e4ca0373-c011-4dfe-87ae-06543631e650",
        "colab": {
          "base_uri": "https://localhost:8080/"
        }
      },
      "execution_count": null,
      "outputs": [
        {
          "output_type": "stream",
          "name": "stdout",
          "text": [
            "num:3\n",
            "Cuadrado: 27\n"
          ]
        }
      ]
    },
    {
      "cell_type": "markdown",
      "source": [
        "USANDO FUNCIONES LAMBDA"
      ],
      "metadata": {
        "id": "1QvX2nwK8DTl"
      }
    },
    {
      "cell_type": "code",
      "source": [
        "elevarCuadradoLambda = lambda base, exponente: base**exponente"
      ],
      "metadata": {
        "id": "kvMDMdx18KGB"
      },
      "execution_count": null,
      "outputs": []
    },
    {
      "cell_type": "code",
      "source": [
        "valor = int(input(\"Num: \"))\n",
        "print(\"Cuadrado:\", elevarCuadradoLambda(valor, 2))"
      ],
      "metadata": {
        "id": "v5EWVbLa85Ah",
        "outputId": "e8d37938-8a38-432a-9ea6-3f324454a6be",
        "colab": {
          "base_uri": "https://localhost:8080/"
        }
      },
      "execution_count": null,
      "outputs": [
        {
          "output_type": "stream",
          "name": "stdout",
          "text": [
            "Num: 3\n",
            "Cuadrado: 9\n"
          ]
        }
      ]
    },
    {
      "cell_type": "code",
      "source": [
        "serie = [5,4,3,2,6,7]\n",
        "resp = map(lambda x: x**2, serie)\n",
        "print(list(resp))\n",
        "\n",
        "resp2 = map(elevarCuadrado, serie)\n",
        "print(list(resp2))"
      ],
      "metadata": {
        "id": "hnsBwgzL_vvF",
        "outputId": "c8a6679d-d38d-4bb9-a3bc-be8cf8c56f83",
        "colab": {
          "base_uri": "https://localhost:8080/"
        }
      },
      "execution_count": null,
      "outputs": [
        {
          "output_type": "stream",
          "name": "stdout",
          "text": [
            "[25, 16, 9, 4, 36, 49]\n",
            "[25, 16, 9, 4, 36, 49]\n"
          ]
        }
      ]
    },
    {
      "cell_type": "markdown",
      "source": [
        "Ejercicio: obtener la raiz cuadrado de una serie de numeros fijos"
      ],
      "metadata": {
        "id": "9jacefXpCw7D"
      }
    },
    {
      "cell_type": "code",
      "source": [
        "def raizCuadrada(num):\n",
        "  return num**0.5"
      ],
      "metadata": {
        "id": "D9vn21xDDD_G"
      },
      "execution_count": null,
      "outputs": []
    },
    {
      "cell_type": "code",
      "source": [
        "serie = [5,4,3,2,6,7]\n",
        "resp = map(raizCuadrada, serie)\n",
        "print(list(resp))"
      ],
      "metadata": {
        "id": "ILyhL0hSDacA",
        "outputId": "e7dff034-4501-4114-e899-da865d548f56",
        "colab": {
          "base_uri": "https://localhost:8080/"
        }
      },
      "execution_count": null,
      "outputs": [
        {
          "output_type": "stream",
          "name": "stdout",
          "text": [
            "[2.23606797749979, 2.0, 1.7320508075688772, 1.4142135623730951, 2.449489742783178, 2.6457513110645907]\n"
          ]
        }
      ]
    },
    {
      "cell_type": "markdown",
      "source": [
        "Calcular sobre el sueldo las deducciones por ley ISSS (3%), AFP(6.25%), ISR(Según tabla) e imprima el total deducciones y\n",
        "sueldo neto."
      ],
      "metadata": {
        "id": "ZJ4_FtxucdFE"
      }
    },
    {
      "cell_type": "code",
      "source": [
        "def calcular_sueldo_neto(salario_bruto):\n",
        "    # Tasas de descuento fijas\n",
        "    tasa_isss = 0.03\n",
        "    tasa_afp = 0.0625\n",
        "\n",
        "    # Tabla de ISR (ajusta los valores según tu país/región)\n",
        "    tabla_isr = [\n",
        "        (0, 10000, 0.1),  # Each tuple should have exactly 3 values: lower bound, upper bound, and rate\n",
        "        (10001, 20000, 0.15),\n",
        "        (20001, float('inf'), 0.2)\n",
        "    ]\n",
        "\n",
        "    # Calcular deducciones ISSS y AFP\n",
        "    deduccion_isss = salario_bruto * tasa_isss\n",
        "    deduccion_afp = salario_bruto * tasa_afp\n",
        "\n",
        "    # Calcular deduccion ISR\n",
        "    deduccion_isr = 0\n",
        "    for lower_bound, upper_bound, tasa in tabla_isr: # Unpack into three variables\n",
        "        if lower_bound <= salario_bruto <= upper_bound:\n",
        "            deduccion_isr = (salario_bruto - lower_bound + 1) * tasa\n",
        "            break\n",
        "\n",
        "    # Calcular total de deducciones y sueldo neto\n",
        "    total_deducciones = deduccion_isss + deduccion_afp + deduccion_isr\n",
        "    sueldo_neto = salario_bruto - total_deducciones\n",
        "\n",
        "    # Imprimir resultados\n",
        "    print(\"Salario bruto:\", salario_bruto)\n",
        "    print(\"Deducciones:\")\n",
        "    print(\"  ISSS:\", deduccion_isss)\n",
        "    print(\"  AFP:\", deduccion_afp)\n",
        "    print(\"  ISR:\", deduccion_isr)\n",
        "    print(\"Total deducciones:\", total_deducciones)\n",
        "    print(\"Sueldo neto:\", sueldo_neto)\n",
        "\n",
        "# Ejemplo de uso\n",
        "salario = float(input(\"Ingrese el salario bruto: \"))\n",
        "calcular_sueldo_neto(salario)"
      ],
      "metadata": {
        "colab": {
          "base_uri": "https://localhost:8080/"
        },
        "id": "Tuf3JGQHdm5R",
        "outputId": "e69594db-7d7e-46e1-f33b-cde4aa041ae0"
      },
      "execution_count": null,
      "outputs": [
        {
          "output_type": "stream",
          "name": "stdout",
          "text": [
            "Ingrese el salario bruto: 120\n",
            "Salario bruto: 120.0\n",
            "Deducciones:\n",
            "  ISSS: 3.5999999999999996\n",
            "  AFP: 7.5\n",
            "  ISR: 12.100000000000001\n",
            "Total deducciones: 23.200000000000003\n",
            "Sueldo neto: 96.8\n"
          ]
        }
      ]
    },
    {
      "cell_type": "markdown",
      "source": [
        "Calcular el valor a pagar según el número de metros consumidos de agua potable"
      ],
      "metadata": {
        "id": "JZVNuoMBkznj"
      }
    },
    {
      "cell_type": "code",
      "source": [
        "def calcular_tarifa_agua(metros_cubicos):\n",
        "  \"\"\"Calcula la tarifa de agua según el consumo.\n",
        "\n",
        "  Args:\n",
        "    metros_cubicos: Número de metros cúbicos consumidos.\n",
        "\n",
        "  Returns:\n",
        "    El valor a pagar en dólares.\n",
        "  \"\"\"\n",
        "\n",
        "  if metros_cubicos <= 18:\n",
        "    return 6\n",
        "  elif 18 < metros_cubicos <= 28:\n",
        "    exceso = metros_cubicos - 18\n",
        "    return 6 + exceso * 0.45\n",
        "  else:\n",
        "    exceso_1 = 10 * 0.45\n",
        "    exceso_2 = (metros_cubicos - 28) * 0.65\n",
        "    return 6 + exceso_1 + exceso_2\n",
        "\n",
        "# Pedimos al usuario que ingrese el consumo\n",
        "while True:\n",
        "  try:\n",
        "    consumo = float(input(\"Ingrese el número de metros cúbicos consumidos \"))\n",
        "    if consumo < 0:\n",
        "      print(\"El consumo debe ser un número positivo.\")\n",
        "    else:\n",
        "      break\n",
        "  except ValueError:\n",
        "    print(\"Por favor, ingrese un número válido.\")\n",
        "\n",
        "# Si el usuario ingresó un número válido, calculamos la tarifa\n",
        "if consumo > 0:\n",
        "  valor_a_pagar = calcular_tarifa_agua(consumo)\n",
        "  print(f\"El valor a pagar por {consumo} metros cúbicos es: ${valor_a_pagar}\")\n"
      ],
      "metadata": {
        "colab": {
          "base_uri": "https://localhost:8080/"
        },
        "id": "PSeHk7J3kWc4",
        "outputId": "89646b7d-2abe-435e-f825-83265ab5696c"
      },
      "execution_count": null,
      "outputs": [
        {
          "output_type": "stream",
          "name": "stdout",
          "text": [
            "Ingrese el número de metros cúbicos consumidos 38\n",
            "El valor a pagar por 38.0 metros cúbicos es: $17.0\n"
          ]
        }
      ]
    },
    {
      "cell_type": "markdown",
      "source": [
        "Desarrolle la tabla de meses acumulados a n meses. Si puede encontrar la fórmula matemática para evitar ciclos."
      ],
      "metadata": {
        "id": "WpIkpA34oU1Z"
      }
    },
    {
      "cell_type": "code",
      "source": [
        "def acumulacion(n):\n",
        "  \"\"\"Calcula la acumulación hasta el mes n, siguiendo la lógica de suma acumulada.\n",
        "\n",
        "  Args:\n",
        "    n: Número del mes.\n",
        "\n",
        "  Returns:\n",
        "    La acumulación hasta el mes n.\n",
        "  \"\"\"\n",
        "\n",
        "  if n == 1:\n",
        "    return 1\n",
        "  else:\n",
        "    return n + acumulacion(n-1)\n",
        "\n",
        "# Tabla de meses acumulados hasta el mes 7 (ignorando irregularidades)\n",
        "meses = [acumulacion(n) for n in range(1, 8)]  # Del mes 1 al 7\n",
        "\n",
        "# Imprime la tabla\n",
        "print(\"Mes\\tAcumulación\")\n",
        "for i, mes in enumerate(meses, start=1):\n",
        "  print(f\"{i}\\t{mes}\")\n"
      ],
      "metadata": {
        "colab": {
          "base_uri": "https://localhost:8080/"
        },
        "id": "g78RLSH6oSdB",
        "outputId": "d0d11173-b277-4f97-b180-b66c7ac6747d"
      },
      "execution_count": null,
      "outputs": [
        {
          "output_type": "stream",
          "name": "stdout",
          "text": [
            "Mes\tAcumulación\n",
            "1\t1\n",
            "2\t3\n",
            "3\t6\n",
            "4\t10\n",
            "5\t15\n",
            "6\t21\n",
            "7\t28\n"
          ]
        }
      ]
    },
    {
      "cell_type": "markdown",
      "source": [
        "Conversores:10 ítems como mínimo por cada uno"
      ],
      "metadata": {
        "id": "MesKehkgrZSF"
      }
    },
    {
      "cell_type": "code",
      "source": [
        "def convertir_unidades(valor, unidad_origen, unidad_destino):\n",
        "    \"\"\"Convierte una medida de una unidad a otra.\n",
        "\n",
        "    Args:\n",
        "        valor: El valor numérico a convertir.\n",
        "        unidad_origen: La unidad de origen (m, cm, in, ft, g, kg, lb, oz, C, F, K).\n",
        "        unidad_destino: La unidad de destino (m, cm, in, ft, g, kg, lb, oz, C, F, K).\n",
        "\n",
        "    Returns:\n",
        "        El valor convertido.\n",
        "    \"\"\"\n",
        "\n",
        "    conversiones = {\n",
        "        \"longitud\": {\n",
        "            \"m\": {\"cm\": 100, \"in\": 39.37, \"ft\": 3.281},\n",
        "            \"cm\": {\"m\": 0.01, \"in\": 0.3937, \"ft\": 0.03281},\n",
        "            # ... otras conversiones de longitud\n",
        "        },\n",
        "        \"masa\": {\n",
        "            \"g\": {\"kg\": 0.001, \"lb\": 0.002205, \"oz\": 0.035274},\n",
        "            \"kg\": {\"g\": 1000, \"lb\": 2.20462, \"oz\": 35.274},\n",
        "            # ... otras conversiones de masa\n",
        "        },\n",
        "        \"temperatura\": {\n",
        "            \"C\": {\"F\": (valor * 9/5) + 32, \"K\": valor + 273.15},\n",
        "            \"F\": {\"C\": (valor - 32) * 5/9, \"K\": ((valor - 32) * 5/9) + 273.15},\n",
        "            \"K\": {\"C\": valor - 273.15, \"F\": (valor - 273.15) * 9/5 + 32}\n",
        "        }\n",
        "    }\n",
        "\n",
        "    try:\n",
        "        tipo_medida = None\n",
        "        if unidad_origen in conversiones[\"longitud\"] and unidad_destino in conversiones[\"longitud\"]:\n",
        "            tipo_medida = \"longitud\"\n",
        "        elif unidad_origen in conversiones[\"masa\"] and unidad_destino in conversiones[\"masa\"]:\n",
        "            tipo_medida = \"masa\"\n",
        "        elif unidad_origen in conversiones[\"temperatura\"] and unidad_destino in conversiones[\"temperatura\"]:\n",
        "            tipo_medida = \"temperatura\"\n",
        "        else:\n",
        "            return \"Unidades no válidas o incompatibles.\"\n",
        "\n",
        "        factor_conversion = conversiones[tipo_medida][unidad_origen][unidad_destino]\n",
        "        resultado = valor * factor_conversion\n",
        "        return resultado\n",
        "    except KeyError:\n",
        "        return \"Unidades no válidas.\"\n",
        "\n",
        "# Obtener datos del usuario\n",
        "valor = float(input(\"Ingrese el valor a convertir: \"))\n",
        "unidad_origen = input(\"Ingrese la unidad de origen (m, cm, in, ft, g, kg, lb, oz, C, F, K): \").lower()\n",
        "unidad_destino = input(\"Ingrese la unidad de destino (m, cm, in, ft, g, kg, lb, oz, C, F, K): \").lower()\n",
        "\n",
        "# Realizar la conversión\n",
        "resultado = convertir_unidades(valor, unidad_origen, unidad_destino)\n",
        "\n",
        "# Mostrar el resultado\n",
        "if isinstance(resultado, str):\n",
        "    print(resultado)\n",
        "else:\n",
        "    print(f\"{valor} {unidad_origen} son {resultado} {unidad_destino}.\")\n"
      ],
      "metadata": {
        "colab": {
          "base_uri": "https://localhost:8080/"
        },
        "id": "K6h_URpesADh",
        "outputId": "1a1cbc35-bfe6-4cf0-bafb-6881a2d411af"
      },
      "execution_count": null,
      "outputs": [
        {
          "output_type": "stream",
          "name": "stdout",
          "text": [
            "Ingrese el valor a convertir: 125\n",
            "Ingrese la unidad de origen (m, cm, in, ft, g, kg, lb, oz, C, F, K): m\n",
            "Ingrese la unidad de destino (m, cm, in, ft, g, kg, lb, oz, C, F, K): cm\n",
            "125.0 m son 12500.0 cm.\n"
          ]
        }
      ]
    },
    {
      "cell_type": "markdown",
      "source": [],
      "metadata": {
        "id": "QhWorEjQoSG1"
      }
    },
    {
      "cell_type": "markdown",
      "source": [
        "Realizar un conversor propio, donde especifiqué el valor de conversión:"
      ],
      "metadata": {
        "id": "G9SyWvsrtvpW"
      }
    },
    {
      "cell_type": "code",
      "source": [
        "def conversor_personalizado(valor, unidad_inicial, unidad_final):\n",
        "    \"\"\"\n",
        "    Realiza una conversión entre las unidades especificadas.\n",
        "\n",
        "    Args:\n",
        "        valor: El valor numérico a convertir.\n",
        "        unidad_inicial: La unidad inicial (caja, saco, fardo, unidad, libra).\n",
        "        unidad_final: La unidad final (caja, saco, fardo, unidad, libra).\n",
        "\n",
        "    Returns:\n",
        "        El valor convertido o un mensaje de error si la conversión no es posible.\n",
        "    \"\"\"\n",
        "\n",
        "    conversiones = {\n",
        "        \"caja\": {\"unidad\": 25},\n",
        "        \"unidad\": {\"caja\": 0.04},\n",
        "        \"saco\": {\"libra\": 50},\n",
        "        \"libra\": {\"saco\": 0.02},\n",
        "        \"fardo\": {\"unidad\": 5},\n",
        "        \"unidad\": {\"fardo\": 0.2}\n",
        "    }\n",
        "\n",
        "    try:\n",
        "        factor = conversiones[unidad_inicial][unidad_final]\n",
        "        resultado = valor * factor\n",
        "        return resultado\n",
        "    except KeyError:\n",
        "        return \"Conversión no válida. Verifica las unidades.\"\n",
        "\n",
        "# Bucle principal para realizar múltiples conversiones\n",
        "while True:\n",
        "    valor = float(input(\"Ingrese el valor a convertir: \"))\n",
        "    unidad_inicial = input(\"Ingrese la unidad inicial (caja, saco, fardo, unidad, libra): \").lower()\n",
        "    unidad_final = input(\"Ingrese la unidad final (caja, saco, fardo, unidad, libra): \").lower()\n",
        "\n",
        "    resultado = conversor_personalizado(valor, unidad_inicial, unidad_final)\n",
        "\n",
        "    print(f\"{valor} {unidad_inicial} equivalen a {resultado} {unidad_final}.\")\n",
        "\n",
        "    continuar = input(\"¿Deseas realizar otra conversión? (s/n): \")\n",
        "    if continuar.lower() != 's':\n",
        "        break\n",
        "\n"
      ],
      "metadata": {
        "colab": {
          "base_uri": "https://localhost:8080/"
        },
        "id": "O30LjygBtq_K",
        "outputId": "24ecdea5-e24b-468c-9de6-b92aaeb4eddd"
      },
      "execution_count": null,
      "outputs": [
        {
          "output_type": "stream",
          "name": "stdout",
          "text": [
            "Ingrese el valor a convertir: 50\n",
            "Ingrese la unidad inicial (caja, saco, fardo, unidad, libra): libra\n",
            "Ingrese la unidad final (caja, saco, fardo, unidad, libra): saco\n",
            "50.0 libra equivalen a 1.0 saco.\n",
            "¿Deseas realizar otra conversión? (s/n): s\n",
            "Ingrese el valor a convertir: 100\n",
            "Ingrese la unidad inicial (caja, saco, fardo, unidad, libra): libra\n",
            "Ingrese la unidad final (caja, saco, fardo, unidad, libra): saco\n",
            "100.0 libra equivalen a 2.0 saco.\n"
          ]
        }
      ]
    },
    {
      "cell_type": "markdown",
      "source": [
        "Estructuras de control"
      ],
      "metadata": {
        "id": "CYXZxc4oFphm"
      }
    },
    {
      "cell_type": "markdown",
      "source": [
        "If\n",
        "Ejercicio solicitar el Usuario la edad y determinar su clasificacion"
      ],
      "metadata": {
        "id": "c0kB7vlyFxJi"
      }
    },
    {
      "cell_type": "code",
      "source": [
        "edad = int(input(\"Edad: \"))\n",
        "if edad>17:\n",
        "  print(\" Bienvenido al mundo de las mayoreres\")"
      ],
      "metadata": {
        "colab": {
          "base_uri": "https://localhost:8080/"
        },
        "id": "ekb6k3naGCUG",
        "outputId": "bab4397f-e82c-4973-f154-28a5982c18f8"
      },
      "execution_count": 8,
      "outputs": [
        {
          "output_type": "stream",
          "name": "stdout",
          "text": [
            "Edad: 20\n",
            " Bienvenido al mundo de las mayoreres\n"
          ]
        }
      ]
    },
    {
      "cell_type": "code",
      "source": [
        "continuar = \"s\"\n",
        "while continuar== \"s\":\n",
        " edad = int(input(\"Edad: \"))\n",
        " if (edad<0):\n",
        "  print(\"No existen edades negativas\")\n",
        " elif edad<2:\n",
        "  print(\"Es un bebe\")\n",
        " elif edad<12:\n",
        "  print(\"Es un niño\")\n",
        " elif edad<18:\n",
        "  print(\"Es un adolescente\")\n",
        " elif edad<65:\n",
        "  print(\"Es un adulto\")\n",
        " elif edad<85:\n",
        "  print(\"Es un adulto mayor\")\n",
        " else:\n",
        "  print(\"Es un anciano\")\n",
        " continuar = input(\"continuar s, sino cualquier tecla: \")\n"
      ],
      "metadata": {
        "id": "iPtnfmuPIGyG"
      },
      "execution_count": null,
      "outputs": []
    },
    {
      "cell_type": "markdown",
      "source": [],
      "metadata": {
        "id": "Su_L-hyoKnxt"
      }
    },
    {
      "cell_type": "markdown",
      "source": [
        "solicitar un numero y verificar si es positivo o negativo"
      ],
      "metadata": {
        "id": "k5cUmHjjKGyc"
      }
    },
    {
      "cell_type": "code",
      "source": [
        "num = int(input(\"Numero: \"))\n",
        "if num>0:\n",
        "  print(\"Es positivo\")\n",
        "elif num==0:\n",
        "    print(\"Es cero\")\n",
        "else:\n",
        "  print(\"Es negativo\")\n"
      ],
      "metadata": {
        "id": "O3ptYJDyKU1x"
      },
      "execution_count": null,
      "outputs": []
    },
    {
      "cell_type": "markdown",
      "source": [
        "solicitar una tabla de mulriplicar y generatia"
      ],
      "metadata": {
        "id": "U84GYkveOkti"
      }
    },
    {
      "cell_type": "code",
      "source": [
        "continura= \"s\"\n",
        "while continuar == \"s\":\n",
        "   tabla = int(input(\"Tabla: \"))\n",
        "   for i in range(1,11):\n",
        "     print(tabla, \"x\", i, \"=\", tabla*i)\n",
        "   continuar = input(\"continuar s, sino cualquier tecla: \")"
      ],
      "metadata": {
        "id": "bgbpQ6NGOtOY"
      },
      "execution_count": null,
      "outputs": []
    },
    {
      "cell_type": "markdown",
      "source": [],
      "metadata": {
        "id": "ZIKK8IgOKRpa"
      }
    }
  ]
}